{
 "cells": [
  {
   "metadata": {},
   "cell_type": "markdown",
   "source": [
    "## About Jupyter Notebooks\n",
    "Jupyter Notebooks are interactive coding journals that integrate live code, explanatory text, equations, visualisations and other multimedia resources.\n",
    "\n"
   ],
   "id": "7314dc35bdff08f4"
  },
  {
   "metadata": {},
   "cell_type": "code",
   "source": [
    "test = \"Hello, world!\"\n",
    "print(test)"
   ],
   "id": "25205fff17495e91",
   "outputs": [],
   "execution_count": null
  },
  {
   "metadata": {},
   "cell_type": "markdown",
   "source": [
    "# 1 - Basics of NumPy\n",
    "Numpy is the main package for scientific computing in Python. It performs a wide variety of advanced mathematical operations with high efficiency.\n"
   ],
   "id": "17f52524d24ad723"
  },
  {
   "metadata": {},
   "cell_type": "code",
   "source": "import numpy as np",
   "id": "9d912ed4474ff8ef",
   "outputs": [],
   "execution_count": null
  },
  {
   "metadata": {},
   "cell_type": "markdown",
   "source": [
    "## 1.1 Advantages of using NumPy arrays.\n",
    "Arrays are one of the core data structures in the NumPy library and are essential for organizing data. You can think of them as grids of values,\n",
    "all of the same type. In contrast, Python lists are more limited in functionality and require more space and time to process than NumPy arrays.\n",
    "\n",
    "NumPy provides an array object that is much faster and more compact than Python lists. Through its extensive API integration, the library offers many built-in functions that make computing much easier with only few lines of code.\n",
    "This can be a huge advantage when performing math operations on large datasets.\n",
    "\n",
    "The array object in NumPy is called `ndarray` meaning 'n-dimensional array'.\n",
    "A 1-D array represents a standard list of values entirely in one dimension.\n",
    "In NumPy, all of the elements within the array are of the same type.\n",
    "\n",
    "\n",
    "\n",
    "\n"
   ],
   "id": "ea385c9afef7b2fb"
  },
  {
   "metadata": {},
   "cell_type": "code",
   "source": [
    "one_dimensional_arr = np.array([10, 12])\n",
    "print(one_dimensional_arr)"
   ],
   "id": "827a77b3f9d9bd32",
   "outputs": [],
   "execution_count": null
  },
  {
   "metadata": {},
   "cell_type": "markdown",
   "source": [
    "## 1.2 How to create NumPy arrays\n",
    "\n",
    "There are several ways to create an array in NumPy. You can create a 1-D array by simply the function `array()` which takes a list of values as an argument and returns 1-D array.\n",
    "\n"
   ],
   "id": "29d9239b19ab9429"
  },
  {
   "metadata": {},
   "cell_type": "code",
   "source": [
    "# Create and print a NumPy array 'a' containing the elements 1, 2, 3.\n",
    "a = np.array([1, 2, 3])\n",
    "print(a)"
   ],
   "id": "f1e7e1a46821af22",
   "outputs": [],
   "execution_count": null
  },
  {
   "metadata": {},
   "cell_type": "code",
   "source": [
    "# Create an array with 3 integers, starting from the default integer 0.\n",
    "b = np.arange(3)\n",
    "print(b)"
   ],
   "id": "5fdea3be0513e371",
   "outputs": [],
   "execution_count": null
  },
  {
   "metadata": {},
   "cell_type": "code",
   "source": [
    "# Create an array that from the integer 1, ends at 20, incremented by 3.\n",
    "# Create value with a specific step size, but stop value is not included.\n",
    "c = np.arange(1, 20, 3)\n",
    "print(c)"
   ],
   "id": "48f92c0de9113dbf",
   "outputs": [],
   "execution_count": null
  },
  {
   "metadata": {},
   "cell_type": "markdown",
   "source": "Another way to create an array with a specific number of evenly spaced elements from the start value to the stop value is by using `np.linspace()`.",
   "id": "f4b6b4679835959c"
  },
  {
   "metadata": {},
   "cell_type": "code",
   "source": [
    "# Create an array that includes 5 elements spaced evenly from the integer 1 to integer 100.\n",
    "# Create a specific number of values between start and stop, stop value is included by default.\n",
    "lin_spaced_arr = np.linspace(0, 100, 5)\n",
    "print(lin_spaced_arr)"
   ],
   "id": "8236bd53f66892ea",
   "outputs": [],
   "execution_count": null
  },
  {
   "metadata": {},
   "cell_type": "markdown",
   "source": [
    "The default type for values in the NumPy function `np.linspace` is a floating point (`np.float64`). You can easily specify your data type using `dtype`.\n",
    "In addition to float, NumPy has several other data types such as `int`, and `char`.\n",
    "\n",
    "To change the type to integers, you need to set the dtype to int."
   ],
   "id": "9c983d1274745291"
  },
  {
   "metadata": {},
   "cell_type": "code",
   "source": [
    "lin_spaced_arr_int = np.linspace(0, 100, 5, dtype=int)\n",
    "print(lin_spaced_arr_int)"
   ],
   "id": "8b16eedec892d5d0",
   "outputs": [],
   "execution_count": null
  },
  {
   "metadata": {},
   "cell_type": "code",
   "source": [
    "c_int = np.arange(1, 20, 3, dtype=int)\n",
    "print(c_int)"
   ],
   "id": "5986229d008519a2",
   "outputs": [],
   "execution_count": null
  },
  {
   "metadata": {},
   "cell_type": "code",
   "source": [
    "b_float = np.arange(3, dtype=float)\n",
    "print(b_float)"
   ],
   "id": "1e946b46d8c74088",
   "outputs": [],
   "execution_count": null
  },
  {
   "metadata": {},
   "cell_type": "code",
   "source": [
    "char_arr = np.array([\"Welcome to Math for ML!\"])\n",
    "print(char_arr)\n",
    "print(char_arr.dtype)"
   ],
   "id": "2c12d6f879990df8",
   "outputs": [],
   "execution_count": null
  },
  {
   "metadata": {},
   "cell_type": "markdown",
   "source": [
    "## 1.3 More on NumPy arrays\n",
    "One of the advantages of using NumPy is that you can easily create arrays with built-in functions such as:\n",
    "* `np.ones()` - returns a new array setting values to one.\n",
    "* `np.zeros()` - returns a new array setting values to zero.\n",
    "* `np.empty()` - returns a new uninitialized array.\n",
    "* `np.random.rand()` - returns a new array with values chosen at random."
   ],
   "id": "7baba711c67d9b"
  },
  {
   "metadata": {},
   "cell_type": "code",
   "source": [
    "# Return a new array of shape 3, filled with ones.\n",
    "ones_arr = np.ones(3)\n",
    "print(ones_arr)"
   ],
   "id": "a6c368087d44588a",
   "outputs": [],
   "execution_count": null
  },
  {
   "metadata": {},
   "cell_type": "code",
   "source": [
    "# Return a new array of shape 3, filled with zeros.\n",
    "zeros_arr = np.zeros(3)\n",
    "print(zeros_arr)"
   ],
   "id": "a8ccfa5eec1e93bd",
   "outputs": [],
   "execution_count": null
  },
  {
   "metadata": {},
   "cell_type": "code",
   "source": [
    "# Return a new array of shape 3, without initializing entries.\n",
    "empt_arr = np.empty(3)\n",
    "print(empt_arr)"
   ],
   "id": "d46f842105548577",
   "outputs": [],
   "execution_count": null
  },
  {
   "metadata": {},
   "cell_type": "code",
   "source": [
    "# Return a new array of shape 3 with random numbers between 0 and 1.\n",
    "rand_arr = np.random.rand(3)\n",
    "print(rand_arr)"
   ],
   "id": "73701e95a64eb27a",
   "outputs": [],
   "execution_count": null
  },
  {
   "metadata": {},
   "cell_type": "markdown",
   "source": [
    "# 2. Multidimensional arrays\n",
    "With NumPy you can also create arrays with more than one dimension.\n",
    "A multidimensional array has more than one column.\n"
   ],
   "id": "712f70576161259a"
  },
  {
   "metadata": {},
   "cell_type": "code",
   "source": [
    "# Create a 2 dimensional array (2-D)\n",
    "two_dim_arr = np.array([[1, 2, 3], [4, 5 ,6]])\n",
    "print(two_dim_arr)"
   ],
   "id": "910001fe7c5b9f",
   "outputs": [],
   "execution_count": null
  },
  {
   "metadata": {},
   "cell_type": "markdown",
   "source": "An alternative way to create a multidimensional array is by reshaping the initial 1-D array. Using `np.reshape()` you can rearrange elements of the previous array into a new shape.",
   "id": "b8d59dba21b66d4a"
  },
  {
   "metadata": {},
   "cell_type": "code",
   "source": [
    "# 1-D array\n",
    "one_dim_arr = np.array([1,2,3,4,5,6])\n",
    "# Multidimensional array using reshape()\n",
    "multi_dim_arr = np.reshape(one_dim_arr, #the array to be reshaped\n",
    "                           (1, 6)) #dimensions of the new array\n",
    "# Print the new 2-D array with two rows and three columns\n",
    "print(multi_dim_arr)"
   ],
   "id": "aba9801ed9417368",
   "outputs": [],
   "execution_count": null
  },
  {
   "metadata": {},
   "cell_type": "markdown",
   "source": [
    "## 2.1 - Finding size, shape and dimension.\n",
    "In future assignments, you will need to know how to find the size, dimension and shape of an array.\n",
    "These are all attributes of a `ndarray` and can be accessed as follows:\n",
    "* `ndarray.ndim` - stores the number dimensions of the array.\n",
    "* `ndarray.shape` - stores the shape of the array. each number in the tuple denotes the length of each corresponding dimension.\n",
    "* `ndarray.size` - stores the number of elements in the array.\n",
    "\n"
   ],
   "id": "fc87ccf6902afeee"
  },
  {
   "metadata": {},
   "cell_type": "code",
   "source": [
    "# Dimension of the 2-D array multi_dim_arr\n",
    "multi_dim_arr.ndim"
   ],
   "id": "63cd58ca02036a5b",
   "outputs": [],
   "execution_count": null
  },
  {
   "metadata": {},
   "cell_type": "code",
   "source": [
    "# Shape of the 2-D array multi_dim_arr\n",
    "multi_dim_arr.shape"
   ],
   "id": "2aac2ee1c6c6a130",
   "outputs": [],
   "execution_count": null
  },
  {
   "metadata": {},
   "cell_type": "code",
   "source": [
    "# Size of the array multi_dim_arr\n",
    "multi_dim_arr.size"
   ],
   "id": "852089d70945cbca",
   "outputs": [],
   "execution_count": null
  },
  {
   "metadata": {},
   "cell_type": "markdown",
   "source": [
    "# 3. Array math operations\n",
    "NumPy allows to quickly perform element-wise addition, subtraction, multiplication and division for both 1-D and multidimensional arrays.\n",
    "The operations are performed using the math symbol for each '+', '-', and '*'.\n"
   ],
   "id": "9a19753a62f89549"
  },
  {
   "metadata": {},
   "cell_type": "code",
   "source": [
    "arr_1 = np.array([2, 4, 6])\n",
    "arr_2 = np.array([1, 3, 5])\n",
    "\n",
    "# Adding two 1-D arrays\n",
    "addition = arr_1 + arr_2\n",
    "print(addition)\n",
    "\n",
    "# Subtracting two 1-D arrays\n",
    "subtraction = arr_1 - arr_2\n",
    "print(subtraction)\n",
    "\n",
    "# Multiplying two 1-D arrays element-wise\n",
    "multiplication = arr_1 * arr_2\n",
    "print(multiplication)"
   ],
   "id": "b8c619afeb24ec82",
   "outputs": [],
   "execution_count": null
  },
  {
   "metadata": {},
   "cell_type": "markdown",
   "source": [
    "## 3.1 - Broadcasting\n",
    "Broadcasting is a way of performing operations on arrays of different shapes by automatically expanding one or both arrays without copying data.\n",
    "\n",
    "NumPy automatically \"stretches\" the smaller array along the mismatched dimensions so that element-wise operations can be done without loops.\n",
    "\n",
    "### 3.1.1 How broadcasting works in NumPy?\n",
    "Broadcasting applies specific rules to determine whether two arrays can be aligned for operations:\n",
    "1. Check Dimensions: Ensure the arrays have the same number of dimensions or expandable dimensions.\n",
    "2. Dimensions Padding: If arrays have different numbers of dimensions, the smaller array is left-padded with ones.\n",
    "3. Shape Compatibility: Two dimensions are compatible of:\n",
    "    * They are equal, or\n",
    "    * One of them is 1\n",
    "\n",
    "If every dimension satisfies one of those rules, broadcasting works.\n",
    "\n"
   ],
   "id": "ccb3c8eaf8f08bbb"
  },
  {
   "metadata": {},
   "cell_type": "code",
   "source": [
    "# Broadcasting array in single value and 1-D addition\n",
    "arr = np.array([1, 2, 3])\n",
    "arr + 1 # Adds one to each element"
   ],
   "id": "8bf42826fb31a6c4",
   "outputs": [],
   "execution_count": null
  },
  {
   "metadata": {},
   "cell_type": "code",
   "source": [
    "# Broadcasting array in 1-D and 2-D addition\n",
    "a1 = np.array([2, 4, 6])\n",
    "a2 = np.array([[1,3,5], [7, 9, 11]])\n",
    "a1 + a2"
   ],
   "id": "dd84598f34ce25b4",
   "outputs": [],
   "execution_count": null
  },
  {
   "metadata": {},
   "cell_type": "code",
   "source": [
    "# Using broadcasting for matrix multiplication\n",
    "matrix = np.reshape([1,2,3,4], (2, 2))\n",
    "vector = np.array([10, 20])\n",
    "matrix * vector"
   ],
   "id": "87d60b5e17cb45c6",
   "outputs": [],
   "execution_count": null
  },
  {
   "metadata": {},
   "cell_type": "code",
   "source": [
    "# Using broadcasting for multiplying vector with a scalar\n",
    "vector = np.array([1, 2])\n",
    "vector * 1.6"
   ],
   "id": "c6a93862c25fc1d",
   "outputs": [],
   "execution_count": null
  },
  {
   "metadata": {},
   "cell_type": "code",
   "source": [
    "# For any axis length 1, use the only possible value.)\n",
    "x = np.array(([0, 1, 2], [3, 4, 5], [6, 7 ,8]))\n",
    "y = np.array([1, 10, 100]).reshape(3, 1)\n",
    "\n",
    "print(x+y)\n",
    "\n",
    "#x (3, 3)\n",
    "#y (3, 1)\n",
    "\n",
    "shape = (3, 3)\n",
    "out = np.empty(shape, dtype=int)\n",
    "N0, N1 = shape\n",
    "\n",
    "for i in range(N0):\n",
    "    for j in range(N1):\n",
    "        out[i, j] = x[i, j] + y[i, 0]\n",
    "print(out)"
   ],
   "id": "bb9d8bf19400444",
   "outputs": [],
   "execution_count": null
  },
  {
   "metadata": {},
   "cell_type": "code",
   "source": [
    "# Omit variables for prepended 1's\n",
    "x = np.array([[[0,1,2],[3,4,5],[6,7,8]],\n",
    "              [[9,10, 11],[12, 13, 14],[15,16,17]]]) #shape (2, 3, 3)\n",
    "y = np.array([1, 10, 100]) #shape (3,)\n",
    "\n",
    "print(x+y)\n",
    "\n",
    "#x (2, 3, 3)\n",
    "#y (1, 1, 3)\n",
    "\n",
    "shape = (2, 3, 3)\n",
    "out = np.empty(shape, dtype=int)\n",
    "N0, N1, N2 = shape\n",
    "\n",
    "for i in range(N0):\n",
    "    for j in range(N1):\n",
    "        for k in range(N2):\n",
    "            out[i, j, k] = x[i, j, k] + y[k]\n",
    "\n",
    "print(out)"
   ],
   "id": "1e9f6570de5e38a0",
   "outputs": [],
   "execution_count": null
  },
  {
   "metadata": {},
   "cell_type": "code",
   "source": [
    "# Both arrays can have broadcasted axes, not just one.\n",
    "x = np.array([[0], [1], [2]]) #(3, 1)\n",
    "y = np.array([[3, 4, 5]]) #(1, 3)\n",
    "\n",
    "print(x + y)\n",
    "\n",
    "shape = (3, 3)\n",
    "out = np.empty(shape, dtype=int)\n",
    "\n",
    "N0, N1 = shape\n",
    "\n",
    "for i in range(N0):\n",
    "    for j in range(N1):\n",
    "        out[i,j] = x[i, 0] + y[0, j]\n",
    "print(out)"
   ],
   "id": "fdcab3e44026772f",
   "outputs": [],
   "execution_count": null
  },
  {
   "metadata": {},
   "cell_type": "markdown",
   "source": [
    "# 4. Indexing and slicing\n",
    "Indexing is very useful as it allows you to select specific elements from an array.\n",
    "\n",
    "## 4.1 Indexing\n",
    "Lets us select specific elements from the arrays as given.\n",
    "\n"
   ],
   "id": "bfeee56f07cf75de"
  },
  {
   "metadata": {},
   "cell_type": "code",
   "source": [
    "# Select the third element of the array.\n",
    "a = np.array([1, 2 ,3, 4, 5])\n",
    "print(a[2])\n",
    "\n",
    "# Select the first element of the array.\n",
    "print(a[0])"
   ],
   "id": "d8f0081abc6a8db4",
   "outputs": [],
   "execution_count": null
  },
  {
   "metadata": {},
   "cell_type": "markdown",
   "source": "For multidimensional arrays of shape `n`, to index a specific element, you must input `n` indices, one for each dimension.",
   "id": "4683aa07afda3769"
  },
  {
   "metadata": {},
   "cell_type": "code",
   "source": [
    "# Indexing on a 2-D array\n",
    "two_dim = np.array(([1,2,3], [4, 5, 6], [7,8,9]))\n",
    "# Select element number 8 from the 2-D array using indices i, j.\n",
    "print(two_dim[2][1])\n",
    "print(two_dim[2, 1])"
   ],
   "id": "8d21c98af3312a01",
   "outputs": [],
   "execution_count": null
  },
  {
   "metadata": {},
   "cell_type": "markdown",
   "source": [
    "## 4.2 Slicing\n",
    "Slicing gives you a sublist of elements that you specify from the array.\n",
    "\n",
    "The syntax is:\n",
    "`array[start:end:step]`\n",
    "\n",
    "\n"
   ],
   "id": "b91302ec0c3411e"
  },
  {
   "metadata": {},
   "cell_type": "code",
   "source": [
    "# Slice the array a to get the [2, 3, 4]\n",
    "a[1:4]"
   ],
   "id": "801d8991e48c37e1",
   "outputs": [],
   "execution_count": null
  },
  {
   "metadata": {},
   "cell_type": "code",
   "source": [
    "# Slice the array a to get the [1, 2, 3]\n",
    "a[:3]"
   ],
   "id": "1636c18c5b30d39e",
   "outputs": [],
   "execution_count": null
  },
  {
   "metadata": {},
   "cell_type": "code",
   "source": [
    "# Slice the array a to get the [3, 4, 5]\n",
    "a[2:]"
   ],
   "id": "45d691aaa352f78e",
   "outputs": [],
   "execution_count": null
  },
  {
   "metadata": {},
   "cell_type": "code",
   "source": [
    "# Slice the array a to get the [1, 3, 5]\n",
    "a[::2]"
   ],
   "id": "4019d96a239fe8ee",
   "outputs": [],
   "execution_count": null
  },
  {
   "metadata": {},
   "cell_type": "code",
   "source": [
    "# Slice the 2-D array to get the first two rows\n",
    "two_dim[0:2]"
   ],
   "id": "69bee141e837a5d3",
   "outputs": [],
   "execution_count": null
  },
  {
   "metadata": {},
   "cell_type": "code",
   "source": [
    "# Slice the 2-D array to get the last two rows\n",
    "two_dim[1:3]"
   ],
   "id": "e673c416b2d1c458",
   "outputs": [],
   "execution_count": null
  },
  {
   "metadata": {},
   "cell_type": "code",
   "source": [
    "# Slice the 2-D array to get the second column.\n",
    "two_dim[:, 1]"
   ],
   "id": "f5c5a1753bffbe07",
   "outputs": [],
   "execution_count": null
  },
  {
   "metadata": {},
   "cell_type": "markdown",
   "source": [
    "## 5. Stacking\n",
    "Stacking is a feature of NumPy that leads to increased customization of arrays.\n",
    "It means to join two or more arrays, either horizontally or vertically, meaning that it is done along new axis.\n",
    "* `np.vstack()` - stacks vertically\n",
    "* `np.hstack()` - stacks horizontally\n"
   ],
   "id": "8aaddbebf94608b9"
  },
  {
   "metadata": {},
   "cell_type": "code",
   "source": [
    "a1 = np.array([[1, 1], [2, 2]])\n",
    "a2 = np.array([[3, 3], [4, 4]])\n",
    "\n",
    "vert_stack = np.vstack((a1, a2))\n",
    "print(\"Vertical stack: \\n\", vert_stack)\n",
    "\n",
    "horz_stack = np.hstack((a1, a2))\n",
    "print(\"Horizontal stack: \\n\", horz_stack)\n",
    "\n",
    "axis0_stack = np.stack((a1, a2), axis=0)\n",
    "print(\"Axis0: \\n\", axis0_stack)\n",
    "\n",
    "axis1_stack = np.stack((a1, a2), axis=1)\n",
    "print(\"Axis1: \\n\",axis1_stack)\n",
    "\n",
    "axis2_stack = np.stack((a1, a2), axis=2)\n",
    "print(\"Axis2: \\n\",axis2_stack)"
   ],
   "id": "415e0f14e193837e",
   "outputs": [],
   "execution_count": null
  },
  {
   "metadata": {},
   "cell_type": "markdown",
   "source": [
    "### Axes\n",
    "Axes are directions along NumPy array. Any value in array can be identified by its position along the axes."
   ],
   "id": "1f6a567dad69cbd4"
  },
  {
   "metadata": {},
   "cell_type": "code",
   "source": [
    "array = np.arange(1, 13).reshape(3, 4)\n",
    "print(array)\n",
    "print(array[1, 2]) # axis-0 (rows) - 1, axis-1 (columns) - 2"
   ],
   "id": "c0984933f166f0cb",
   "outputs": [],
   "execution_count": null
  },
  {
   "metadata": {},
   "cell_type": "markdown",
   "source": [
    "# 6. Basic data analysis operations\n",
    "## 6.1 Summation\n",
    "\n"
   ],
   "id": "f27332e23fbd510"
  },
  {
   "metadata": {},
   "cell_type": "code",
   "source": [
    "one_dim = np.array([1, 2, 3, 4, 5])\n",
    "two_dim = np.array([[1,2,3], [4,5,6]])\n",
    "\n",
    "print(np.sum(one_dim)) # Sum of all elements\n",
    "print(np.sum(two_dim)) # Sum of all elements\n",
    "\n",
    "print(np.sum(two_dim, axis=0)) # Sum along axis 0 (column-wise)\n",
    "print(np.sum(two_dim, axis=1)) # Sum along axis 1 (row-wise)\n",
    "\n",
    "total_saved_dim = np.sum(two_dim, axis=1, keepdims=True) # The number of dimensions is preserved\n",
    "print(total_saved_dim)\n",
    "print(total_saved_dim.shape)\n",
    "\n",
    "print(np.cumsum(one_dim))\n",
    "print(np.cumsum(two_dim))"
   ],
   "id": "8696418680246a5e",
   "outputs": [],
   "execution_count": null
  },
  {
   "metadata": {},
   "cell_type": "markdown",
   "source": "## 6.2 Maximum and minimum\n",
   "id": "4fb3262f7d557c5b"
  },
  {
   "metadata": {},
   "cell_type": "code",
   "source": [
    "print(one_dim.min())\n",
    "print(one_dim.max())\n",
    "\n",
    "print(two_dim.max())\n",
    "print(two_dim.min())"
   ],
   "id": "70755b880688b8fc",
   "outputs": [],
   "execution_count": null
  },
  {
   "metadata": {},
   "cell_type": "markdown",
   "source": [
    "## 7. Joining and splitting\n",
    "## 7.1 Joining/concatenation\n"
   ],
   "id": "508cf28de50c4f15"
  },
  {
   "metadata": {},
   "cell_type": "code",
   "source": [
    "a1 = np.array([1, 2, 3, 4, 5])\n",
    "a2 = np.array([6,7,8,9,10])\n",
    "\n",
    "print(np.concatenate((a1, a2))) # Concatenating/join two arrays together\n",
    "\n",
    "a3 = np.array([[1, 2, 3], [4, 5, 6]])\n",
    "a4 = np.array([[7,8,9], [10, 11, 12]])\n",
    "\n",
    "print(np.concatenate((a3, a4), axis=0))\n",
    "print(np.vstack((a3, a4)))\n",
    "\n",
    "print(np.concatenate((a3, a4), axis=1))\n",
    "print(np.hstack((a3, a4)))"
   ],
   "id": "92fa24f8fdbb348b",
   "outputs": [],
   "execution_count": null
  },
  {
   "metadata": {},
   "cell_type": "markdown",
   "source": "## 7.2 Splitting",
   "id": "2a24ddb282c98421"
  },
  {
   "metadata": {},
   "cell_type": "code",
   "source": [
    "arr = np.array([1, 2, 3 ,4, 5,6 ])\n",
    "print(np.array_split(arr, 3)) # Splitting 1-D array\n",
    "print(np.array_split(arr, 4)) # Will adjust from the end accordingly\n",
    "\n",
    "arr1 = np.array([[1, 2], [3, 4], [5, 6], [7, 8], [9, 10], [11, 12]])\n",
    "print(np.array_split(arr1, 3))\n",
    "\n",
    "arr2 = np.array([[1, 2, 3], [4, 5, 6], [7, 8, 9], [10, 11, 12], [13, 14, 15], [16, 17, 18]])\n",
    "print(np.array_split(arr2, 3))\n",
    "print(np.array_split(arr2, 3, axis=1))"
   ],
   "id": "32c7f5d1e8ea56e8",
   "outputs": [],
   "execution_count": null
  }
 ],
 "metadata": {
  "kernelspec": {
   "name": "math_ml_ds",
   "language": "python",
   "display_name": "Python (math_ml_ds)"
  }
 },
 "nbformat": 4,
 "nbformat_minor": 5
}
