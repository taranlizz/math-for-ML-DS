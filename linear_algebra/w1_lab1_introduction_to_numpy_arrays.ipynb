{
 "cells": [
  {
   "cell_type": "markdown",
   "id": "7314dc35bdff08f4",
   "metadata": {},
   "source": [
    "## About Jupyter Notebooks\n",
    "Jupyter Notebooks are interactive coding journals that integrate live code, explanatory text, equations, visualisations and other multimedia resources.\n",
    "\n"
   ]
  },
  {
   "cell_type": "code",
   "id": "25205fff17495e91",
   "metadata": {},
   "source": [
    "test = \"Hello, world!\"\n",
    "print(test)"
   ],
   "outputs": [],
   "execution_count": null
  },
  {
   "cell_type": "markdown",
   "id": "17f52524d24ad723",
   "metadata": {},
   "source": [
    "# 1 - Basics of NumPy\n",
    "Numpy is the main package for scientific computing in Python. It performs a wide variety of advanced mathematical operations with high efficiency.\n"
   ]
  },
  {
   "cell_type": "code",
   "id": "9d912ed4474ff8ef",
   "metadata": {},
   "source": [
    "import numpy as np"
   ],
   "outputs": [],
   "execution_count": null
  },
  {
   "cell_type": "markdown",
   "id": "ea385c9afef7b2fb",
   "metadata": {},
   "source": [
    "## 1.1 Advantages of using NumPy arrays.\n",
    "Arrays are one of the core data structures in the NumPy library and are essential for organizing data. You can think of them as grids of values,\n",
    "all of the same type. In contrast, Python lists are more limited in functionality and require more space and time to process than NumPy arrays.\n",
    "\n",
    "NumPy provides an array object that is much faster and more compact than Python lists. Through its extensive API integration, the library offers many built-in functions that make computing much easier with only few lines of code.\n",
    "This can be a huge advantage when performing math operations on large datasets.\n",
    "\n",
    "The array object in NumPy is called `ndarray` meaning 'n-dimensional array'.\n",
    "A 1-D array represents a standard list of values entirely in one dimension.\n",
    "In NumPy, all of the elements within the array are of the same type.\n",
    "\n",
    "\n",
    "\n",
    "\n"
   ]
  },
  {
   "cell_type": "code",
   "id": "827a77b3f9d9bd32",
   "metadata": {},
   "source": [
    "one_dimensional_arr = np.array([10, 12])\n",
    "print(one_dimensional_arr)"
   ],
   "outputs": [],
   "execution_count": null
  },
  {
   "cell_type": "markdown",
   "id": "29d9239b19ab9429",
   "metadata": {},
   "source": [
    "## 1.2 How to create NumPy arrays\n",
    "\n",
    "There are several ways to create an array in NumPy. You can create a 1-D array by simply the function `array()` which takes a list of values as an argument and returns 1-D array.\n",
    "\n"
   ]
  },
  {
   "cell_type": "code",
   "id": "f1e7e1a46821af22",
   "metadata": {},
   "source": [
    "# Create and print a NumPy array 'a' containing the elements 1, 2, 3.\n",
    "a = np.array([1, 2, 3])\n",
    "print(a)"
   ],
   "outputs": [],
   "execution_count": null
  },
  {
   "cell_type": "code",
   "id": "5fdea3be0513e371",
   "metadata": {},
   "source": [
    "# Create an array with 3 integers, starting from the default integer 0.\n",
    "b = np.arange(3)\n",
    "print(b)"
   ],
   "outputs": [],
   "execution_count": null
  },
  {
   "cell_type": "code",
   "id": "48f92c0de9113dbf",
   "metadata": {},
   "source": [
    "# Create an array that from the integer 1, ends at 20, incremented by 3.\n",
    "# Create value with a specific step size, but stop value is not included.\n",
    "c = np.arange(1, 20, 3)\n",
    "print(c)"
   ],
   "outputs": [],
   "execution_count": null
  },
  {
   "cell_type": "markdown",
   "id": "f4b6b4679835959c",
   "metadata": {},
   "source": [
    "Another way to create an array with a specific number of evenly spaced elements from the start value to the stop value is by using `np.linspace()`."
   ]
  },
  {
   "cell_type": "code",
   "id": "8236bd53f66892ea",
   "metadata": {},
   "source": [
    "# Create an array that includes 5 elements spaced evenly from the integer 1 to integer 100.\n",
    "# Create a specific number of values between start and stop, stop value is included by default.\n",
    "lin_spaced_arr = np.linspace(0, 100, 5)\n",
    "print(lin_spaced_arr)"
   ],
   "outputs": [],
   "execution_count": null
  },
  {
   "cell_type": "markdown",
   "id": "9c983d1274745291",
   "metadata": {},
   "source": [
    "The default type for values in the NumPy function `np.linspace` is a floating point (`np.float64`). You can easily specify your data type using `dtype`.\n",
    "In addition to float, NumPy has several other data types such as `int`, and `char`.\n",
    "\n",
    "To change the type to integers, you need to set the dtype to int."
   ]
  },
  {
   "cell_type": "code",
   "id": "8b16eedec892d5d0",
   "metadata": {},
   "source": [
    "lin_spaced_arr_int = np.linspace(0, 100, 5, dtype=int)\n",
    "print(lin_spaced_arr_int)"
   ],
   "outputs": [],
   "execution_count": null
  },
  {
   "cell_type": "code",
   "id": "5986229d008519a2",
   "metadata": {},
   "source": [
    "c_int = np.arange(1, 20, 3, dtype=int)\n",
    "print(c_int)"
   ],
   "outputs": [],
   "execution_count": null
  },
  {
   "cell_type": "code",
   "id": "1e946b46d8c74088",
   "metadata": {},
   "source": [
    "b_float = np.arange(3, dtype=float)\n",
    "print(b_float)"
   ],
   "outputs": [],
   "execution_count": null
  },
  {
   "cell_type": "code",
   "id": "2c12d6f879990df8",
   "metadata": {},
   "source": [
    "char_arr = np.array([\"Welcome to Math for ML!\"])\n",
    "print(char_arr)\n",
    "print(char_arr.dtype)"
   ],
   "outputs": [],
   "execution_count": null
  },
  {
   "cell_type": "markdown",
   "id": "7baba711c67d9b",
   "metadata": {},
   "source": [
    "## 1.3 More on NumPy arrays\n",
    "One of the advantages of using NumPy is that you can easily create arrays with built-in functions such as:\n",
    "* `np.ones()` - returns a new array setting values to one.\n",
    "* `np.zeros()` - returns a new array setting values to zero.\n",
    "* `np.empty()` - returns a new uninitialized array.\n",
    "* `np.random.rand()` - returns a new array with values chosen at random."
   ]
  },
  {
   "cell_type": "code",
   "id": "a6c368087d44588a",
   "metadata": {},
   "source": [
    "# Return a new array of shape 3, filled with ones.\n",
    "ones_arr = np.ones(3)\n",
    "print(ones_arr)"
   ],
   "outputs": [],
   "execution_count": null
  },
  {
   "cell_type": "code",
   "id": "a8ccfa5eec1e93bd",
   "metadata": {},
   "source": [
    "# Return a new array of shape 3, filled with zeros.\n",
    "zeros_arr = np.zeros(3)\n",
    "print(zeros_arr)"
   ],
   "outputs": [],
   "execution_count": null
  },
  {
   "cell_type": "code",
   "id": "d46f842105548577",
   "metadata": {},
   "source": [
    "# Return a new array of shape 3, without initializing entries.\n",
    "empt_arr = np.empty(3)\n",
    "print(empt_arr)"
   ],
   "outputs": [],
   "execution_count": null
  },
  {
   "cell_type": "code",
   "id": "73701e95a64eb27a",
   "metadata": {},
   "source": [
    "# Return a new array of shape 3 with random numbers between 0 and 1.\n",
    "rand_arr = np.random.rand(3)\n",
    "print(rand_arr)"
   ],
   "outputs": [],
   "execution_count": null
  },
  {
   "cell_type": "markdown",
   "id": "712f70576161259a",
   "metadata": {},
   "source": [
    "# 2. Multidimensional arrays\n",
    "With NumPy you can also create arrays with more than one dimension.\n",
    "A multidimensional array has more than one column.\n"
   ]
  },
  {
   "cell_type": "code",
   "id": "910001fe7c5b9f",
   "metadata": {},
   "source": [
    "# Create a 2 dimensional array (2-D)\n",
    "two_dim_arr = np.array([[1, 2, 3], [4, 5 ,6]])\n",
    "print(two_dim_arr)"
   ],
   "outputs": [],
   "execution_count": null
  },
  {
   "cell_type": "markdown",
   "id": "b8d59dba21b66d4a",
   "metadata": {},
   "source": [
    "An alternative way to create a multidimensional array is by reshaping the initial 1-D array. Using `np.reshape()` you can rearrange elements of the previous array into a new shape."
   ]
  },
  {
   "cell_type": "code",
   "id": "aba9801ed9417368",
   "metadata": {},
   "source": [
    "# 1-D array\n",
    "one_dim_arr = np.array([1,2,3,4,5,6])\n",
    "# Multidimensional array using reshape()\n",
    "multi_dim_arr = np.reshape(one_dim_arr, #the array to be reshaped\n",
    "                           (1, 6)) #dimensions of the new array\n",
    "# Print the new 2-D array with two rows and three columns\n",
    "print(multi_dim_arr)"
   ],
   "outputs": [],
   "execution_count": null
  },
  {
   "cell_type": "markdown",
   "id": "fc87ccf6902afeee",
   "metadata": {},
   "source": [
    "## 2.1 - Finding size, shape and dimension.\n",
    "In future assignments, you will need to know how to find the size, dimension and shape of an array.\n",
    "These are all attributes of a `ndarray` and can be accessed as follows:\n",
    "* `ndarray.ndim` - stores the number dimensions of the array.\n",
    "* `ndarray.shape` - stores the shape of the array. each number in the tuple denotes the length of each corresponding dimension.\n",
    "* `ndarray.size` - stores the number of elements in the array.\n",
    "\n"
   ]
  },
  {
   "cell_type": "code",
   "id": "63cd58ca02036a5b",
   "metadata": {},
   "source": [
    "# Dimension of the 2-D array multi_dim_arr\n",
    "multi_dim_arr.ndim"
   ],
   "outputs": [],
   "execution_count": null
  },
  {
   "cell_type": "code",
   "id": "2aac2ee1c6c6a130",
   "metadata": {},
   "source": [
    "# Shape of the 2-D array multi_dim_arr\n",
    "multi_dim_arr.shape"
   ],
   "outputs": [],
   "execution_count": null
  },
  {
   "cell_type": "code",
   "id": "852089d70945cbca",
   "metadata": {},
   "source": [
    "# Size of the array multi_dim_arr\n",
    "multi_dim_arr.size"
   ],
   "outputs": [],
   "execution_count": null
  },
  {
   "cell_type": "markdown",
   "id": "9a19753a62f89549",
   "metadata": {},
   "source": [
    "# 3. Array math operations\n",
    "NumPy allows to quickly perform element-wise addition, subtraction, multiplication and division for both 1-D and multidimensional arrays.\n",
    "The operations are performed using the math symbol for each '+', '-', and '*'.\n"
   ]
  },
  {
   "cell_type": "code",
   "id": "b8c619afeb24ec82",
   "metadata": {},
   "source": [
    "arr_1 = np.array([2, 4, 6])\n",
    "arr_2 = np.array([1, 3, 5])\n",
    "\n",
    "# Adding two 1-D arrays\n",
    "addition = arr_1 + arr_2\n",
    "print(addition)\n",
    "\n",
    "# Subtracting two 1-D arrays\n",
    "subtraction = arr_1 - arr_2\n",
    "print(subtraction)\n",
    "\n",
    "# Multiplying two 1-D arrays element-wise\n",
    "multiplication = arr_1 * arr_2\n",
    "print(multiplication)"
   ],
   "outputs": [],
   "execution_count": null
  },
  {
   "cell_type": "markdown",
   "id": "ccb3c8eaf8f08bbb",
   "metadata": {},
   "source": [
    "## 3.1 - Broadcasting\n",
    "Broadcasting is a way of performing operations on arrays of different shapes by automatically expanding one or both arrays without copying data.\n",
    "\n",
    "NumPy automatically \"stretches\" the smaller array along the mismatched dimensions so that element-wise operations can be done without loops.\n",
    "\n",
    "### 3.1.1 How broadcasting works in NumPy?\n",
    "Broadcasting applies specific rules to determine whether two arrays can be aligned for operations:\n",
    "1. Check Dimensions: Ensure the arrays have the same number of dimensions or expandable dimensions.\n",
    "2. Dimensions Padding: If arrays have different numbers of dimensions, the smaller array is left-padded with ones.\n",
    "3. Shape Compatibility: Two dimensions are compatible of:\n",
    "    * They are equal, or\n",
    "    * One of them is 1\n",
    "\n",
    "If every dimension satisfies one of those rules, broadcasting works.\n",
    "\n"
   ]
  },
  {
   "cell_type": "code",
   "id": "8bf42826fb31a6c4",
   "metadata": {},
   "source": [
    "# Broadcasting array in single value and 1-D addition\n",
    "arr = np.array([1, 2, 3])\n",
    "arr + 1 # Adds one to each element"
   ],
   "outputs": [],
   "execution_count": null
  },
  {
   "cell_type": "code",
   "id": "dd84598f34ce25b4",
   "metadata": {},
   "source": [
    "# Broadcasting array in 1-D and 2-D addition\n",
    "a1 = np.array([2, 4, 6])\n",
    "a2 = np.array([[1,3,5], [7, 9, 11]])\n",
    "a1 + a2"
   ],
   "outputs": [],
   "execution_count": null
  },
  {
   "cell_type": "code",
   "id": "87d60b5e17cb45c6",
   "metadata": {},
   "source": [
    "# Using broadcasting for matrix multiplication\n",
    "matrix = np.reshape([1,2,3,4], (2, 2))\n",
    "vector = np.array([10, 20])\n",
    "matrix * vector"
   ],
   "outputs": [],
   "execution_count": null
  },
  {
   "cell_type": "code",
   "id": "c6a93862c25fc1d",
   "metadata": {},
   "source": [
    "# Using broadcasting for multiplying vector with a scalar\n",
    "vector = np.array([1, 2])\n",
    "vector * 1.6"
   ],
   "outputs": [],
   "execution_count": null
  },
  {
   "cell_type": "code",
   "id": "bb9d8bf19400444",
   "metadata": {},
   "source": [
    "# For any axis length 1, use the only possible value.)\n",
    "x = np.array(([0, 1, 2], [3, 4, 5], [6, 7 ,8]))\n",
    "y = np.array([1, 10, 100]).reshape(3, 1)\n",
    "\n",
    "print(x+y)\n",
    "\n",
    "#x (3, 3)\n",
    "#y (3, 1)\n",
    "\n",
    "shape = (3, 3)\n",
    "out = np.empty(shape, dtype=int)\n",
    "N0, N1 = shape\n",
    "\n",
    "for i in range(N0):\n",
    "    for j in range(N1):\n",
    "        out[i, j] = x[i, j] + y[i, 0]\n",
    "print(out)"
   ],
   "outputs": [],
   "execution_count": null
  },
  {
   "cell_type": "code",
   "id": "1e9f6570de5e38a0",
   "metadata": {},
   "source": [
    "# Omit variables for prepended 1's\n",
    "x = np.array([[[0,1,2],[3,4,5],[6,7,8]],\n",
    "              [[9,10, 11],[12, 13, 14],[15,16,17]]]) #shape (2, 3, 3)\n",
    "y = np.array([1, 10, 100]) #shape (3,)\n",
    "\n",
    "print(x+y)\n",
    "\n",
    "#x (2, 3, 3)\n",
    "#y (1, 1, 3)\n",
    "\n",
    "shape = (2, 3, 3)\n",
    "out = np.empty(shape, dtype=int)\n",
    "N0, N1, N2 = shape\n",
    "\n",
    "for i in range(N0):\n",
    "    for j in range(N1):\n",
    "        for k in range(N2):\n",
    "            out[i, j, k] = x[i, j, k] + y[k]\n",
    "\n",
    "print(out)"
   ],
   "outputs": [],
   "execution_count": null
  },
  {
   "cell_type": "code",
   "id": "fdcab3e44026772f",
   "metadata": {},
   "source": [
    "# Both arrays can have broadcasted axes, not just one.\n",
    "x = np.array([[0], [1], [2]]) #(3, 1)\n",
    "y = np.array([[3, 4, 5]]) #(1, 3)\n",
    "\n",
    "print(x + y)\n",
    "\n",
    "shape = (3, 3)\n",
    "out = np.empty(shape, dtype=int)\n",
    "\n",
    "N0, N1 = shape\n",
    "\n",
    "for i in range(N0):\n",
    "    for j in range(N1):\n",
    "        out[i,j] = x[i, 0] + y[0, j]\n",
    "print(out)"
   ],
   "outputs": [],
   "execution_count": null
  },
  {
   "cell_type": "markdown",
   "id": "bfeee56f07cf75de",
   "metadata": {},
   "source": [
    "# 4. Indexing and slicing\n",
    "Indexing is very useful as it allows you to select specific elements from an array.\n",
    "\n",
    "## 4.1 Indexing\n",
    "Lets us select specific elements from the arrays as given.\n",
    "\n"
   ]
  },
  {
   "cell_type": "code",
   "id": "d8f0081abc6a8db4",
   "metadata": {},
   "source": [
    "# Select the third element of the array.\n",
    "a = np.array([1, 2 ,3, 4, 5])\n",
    "print(a[2])\n",
    "\n",
    "# Select the first element of the array.\n",
    "print(a[0])"
   ],
   "outputs": [],
   "execution_count": null
  },
  {
   "cell_type": "markdown",
   "id": "4683aa07afda3769",
   "metadata": {},
   "source": [
    "For multidimensional arrays of shape `n`, to index a specific element, you must input `n` indices, one for each dimension."
   ]
  },
  {
   "cell_type": "code",
   "id": "8d21c98af3312a01",
   "metadata": {},
   "source": [
    "# Indexing on a 2-D array\n",
    "two_dim = np.array(([1,2,3], [4, 5, 6], [7,8,9]))\n",
    "# Select element number 8 from the 2-D array using indices i, j.\n",
    "print(two_dim[2][1])\n",
    "print(two_dim[2, 1])"
   ],
   "outputs": [],
   "execution_count": null
  },
  {
   "cell_type": "markdown",
   "id": "b91302ec0c3411e",
   "metadata": {},
   "source": [
    "## 4.2 Slicing\n",
    "Slicing gives you a sublist of elements that you specify from the array.\n",
    "\n",
    "The syntax is:\n",
    "`array[start:end:step]`\n",
    "\n",
    "\n"
   ]
  },
  {
   "cell_type": "code",
   "id": "801d8991e48c37e1",
   "metadata": {},
   "source": [
    "# Slice the array a to get the [2, 3, 4]\n",
    "a[1:4]"
   ],
   "outputs": [],
   "execution_count": null
  },
  {
   "cell_type": "code",
   "id": "1636c18c5b30d39e",
   "metadata": {},
   "source": [
    "# Slice the array a to get the [1, 2, 3]\n",
    "a[:3]"
   ],
   "outputs": [],
   "execution_count": null
  },
  {
   "cell_type": "code",
   "id": "45d691aaa352f78e",
   "metadata": {},
   "source": [
    "# Slice the array a to get the [3, 4, 5]\n",
    "a[2:]"
   ],
   "outputs": [],
   "execution_count": null
  },
  {
   "cell_type": "code",
   "id": "4019d96a239fe8ee",
   "metadata": {},
   "source": [
    "# Slice the array a to get the [1, 3, 5]\n",
    "a[::2]"
   ],
   "outputs": [],
   "execution_count": null
  },
  {
   "cell_type": "code",
   "id": "69bee141e837a5d3",
   "metadata": {},
   "source": [
    "# Slice the 2-D array to get the first two rows\n",
    "two_dim[0:2]"
   ],
   "outputs": [],
   "execution_count": null
  },
  {
   "cell_type": "code",
   "id": "e673c416b2d1c458",
   "metadata": {},
   "source": [
    "# Slice the 2-D array to get the last two rows\n",
    "two_dim[1:3]"
   ],
   "outputs": [],
   "execution_count": null
  },
  {
   "cell_type": "code",
   "id": "f5c5a1753bffbe07",
   "metadata": {},
   "source": [
    "# Slice the 2-D array to get the second column.\n",
    "two_dim[:, 1]"
   ],
   "outputs": [],
   "execution_count": null
  },
  {
   "cell_type": "markdown",
   "id": "8aaddbebf94608b9",
   "metadata": {},
   "source": [
    "## 5. Stacking\n",
    "Stacking is a feature of NumPy that leads to increased customization of arrays.\n",
    "It means to join two or more arrays, either horizontally or vertically, meaning that it is done along new axis.\n",
    "* `np.vstack()` - stacks vertically\n",
    "* `np.hstack()` - stacks horizontally\n"
   ]
  },
  {
   "cell_type": "code",
   "id": "415e0f14e193837e",
   "metadata": {},
   "source": [
    "a1 = np.array([[1, 1], [2, 2]])\n",
    "a2 = np.array([[3, 3], [4, 4]])\n",
    "\n",
    "vert_stack = np.vstack((a1, a2))\n",
    "print(\"Vertical stack: \\n\", vert_stack)\n",
    "\n",
    "horz_stack = np.hstack((a1, a2))\n",
    "print(\"Horizontal stack: \\n\", horz_stack)\n",
    "\n",
    "axis0_stack = np.stack((a1, a2), axis=0)\n",
    "print(\"Axis0: \\n\", axis0_stack)\n",
    "\n",
    "axis1_stack = np.stack((a1, a2), axis=1)\n",
    "print(\"Axis1: \\n\",axis1_stack)\n",
    "\n",
    "axis2_stack = np.stack((a1, a2), axis=2)\n",
    "print(\"Axis2: \\n\",axis2_stack)"
   ],
   "outputs": [],
   "execution_count": null
  },
  {
   "cell_type": "markdown",
   "id": "1f6a567dad69cbd4",
   "metadata": {},
   "source": [
    "### Axes\n",
    "Axes are directions along NumPy array. Any value in array can be identified by its position along the axes."
   ]
  },
  {
   "cell_type": "code",
   "id": "c0984933f166f0cb",
   "metadata": {},
   "source": [
    "array = np.arange(1, 13).reshape(3, 4)\n",
    "print(array)\n",
    "print(array[1, 2]) # axis-0 (rows) - 1, axis-1 (columns) - 2"
   ],
   "outputs": [],
   "execution_count": null
  },
  {
   "cell_type": "markdown",
   "id": "f27332e23fbd510",
   "metadata": {},
   "source": [
    "# 6. Basic data analysis operations\n",
    "## 6.1 Summation\n",
    "\n"
   ]
  },
  {
   "cell_type": "code",
   "id": "8696418680246a5e",
   "metadata": {},
   "source": [
    "one_dim = np.array([1, 2, 3, 4, 5])\n",
    "two_dim = np.array([[1,2,3], [4,5,6]])\n",
    "\n",
    "print(np.sum(one_dim)) # Sum of all elements\n",
    "print(np.sum(two_dim)) # Sum of all elements\n",
    "\n",
    "print(np.sum(two_dim, axis=0)) # Sum along axis 0 (column-wise)\n",
    "print(np.sum(two_dim, axis=1)) # Sum along axis 1 (row-wise)\n",
    "\n",
    "total_saved_dim = np.sum(two_dim, axis=1, keepdims=True) # The number of dimensions is preserved\n",
    "print(total_saved_dim)\n",
    "print(total_saved_dim.shape)\n",
    "\n",
    "print(np.cumsum(one_dim))\n",
    "print(np.cumsum(two_dim))"
   ],
   "outputs": [],
   "execution_count": null
  },
  {
   "cell_type": "markdown",
   "id": "4fb3262f7d557c5b",
   "metadata": {},
   "source": [
    "## 6.2 Maximum and minimum\n"
   ]
  },
  {
   "cell_type": "code",
   "id": "70755b880688b8fc",
   "metadata": {},
   "source": [
    "print(one_dim.min())\n",
    "print(one_dim.max())\n",
    "\n",
    "print(two_dim.max())\n",
    "print(two_dim.min())"
   ],
   "outputs": [],
   "execution_count": null
  },
  {
   "cell_type": "markdown",
   "id": "508cf28de50c4f15",
   "metadata": {},
   "source": [
    "## 7. Joining and splitting\n",
    "## 7.1 Joining/concatenation\n"
   ]
  },
  {
   "cell_type": "code",
   "id": "92fa24f8fdbb348b",
   "metadata": {},
   "source": [
    "a1 = np.array([1, 2, 3, 4, 5])\n",
    "a2 = np.array([6,7,8,9,10])\n",
    "\n",
    "print(np.concatenate((a1, a2))) # Concatenating/join two arrays together\n",
    "\n",
    "a3 = np.array([[1, 2, 3], [4, 5, 6]])\n",
    "a4 = np.array([[7,8,9], [10, 11, 12]])\n",
    "\n",
    "print(np.concatenate((a3, a4), axis=0))\n",
    "print(np.vstack((a3, a4)))\n",
    "\n",
    "print(np.concatenate((a3, a4), axis=1))\n",
    "print(np.hstack((a3, a4)))"
   ],
   "outputs": [],
   "execution_count": null
  },
  {
   "cell_type": "markdown",
   "id": "2a24ddb282c98421",
   "metadata": {},
   "source": [
    "## 7.2 Splitting"
   ]
  },
  {
   "cell_type": "code",
   "id": "32c7f5d1e8ea56e8",
   "metadata": {},
   "source": [
    "arr = np.array([1, 2, 3 ,4, 5,6 ])\n",
    "print(np.array_split(arr, 3)) # Splitting 1-D array\n",
    "print(np.array_split(arr, 4)) # Will adjust from the end accordingly\n",
    "\n",
    "arr1 = np.array([[1, 2], [3, 4], [5, 6], [7, 8], [9, 10], [11, 12]])\n",
    "print(np.array_split(arr1, 3))\n",
    "\n",
    "arr2 = np.array([[1, 2, 3], [4, 5, 6], [7, 8, 9], [10, 11, 12], [13, 14, 15], [16, 17, 18]])\n",
    "print(np.array_split(arr2, 3))\n",
    "print(np.array_split(arr2, 3, axis=1))"
   ],
   "outputs": [],
   "execution_count": null
  },
  {
   "metadata": {},
   "cell_type": "markdown",
   "source": [
    "## 8. Iterating through NumPy arrays\n",
    "### 8.1 Iteration by using nested loops"
   ],
   "id": "90d2090ef3eb567e"
  },
  {
   "metadata": {},
   "cell_type": "code",
   "source": [
    "#1-D\n",
    "np1 = np.array([1, 2, 3, 4, 5, 6, 7, 8, 9])\n",
    "for x in np1:\n",
    "    print(x)"
   ],
   "id": "fe23616a1837359d",
   "outputs": [],
   "execution_count": null
  },
  {
   "metadata": {},
   "cell_type": "code",
   "source": [
    "#2-D\n",
    "np2 = np.array([[1, 2, 3, 4, 5],[6, 7, 8, 9, 10]])\n",
    "for x in np2:\n",
    "    #print rows\n",
    "    print(x)\n",
    "    for y in x:\n",
    "    #print column\n",
    "        print(y)\n"
   ],
   "id": "6c6daa3eafc15547",
   "outputs": [],
   "execution_count": null
  },
  {
   "metadata": {},
   "cell_type": "code",
   "source": [
    "#3-D\n",
    "np3 = np.array([\n",
    "    [[1, 2, 3, 4],\n",
    "     [5, 6, 7, 8],\n",
    "     [9, 10, 11, 12]],\n",
    "\n",
    "    [[13, 14, 15, 16],\n",
    "     [17, 18, 19, 20],\n",
    "     [21, 22, 23, 24]]\n",
    "])\n",
    "for x in np3:\n",
    "    print(x)\n",
    "    for y in x:\n",
    "        print(y)\n",
    "        for k in y:\n",
    "            print(k)\n",
    "\n"
   ],
   "id": "4f37d3c394a373ad",
   "outputs": [],
   "execution_count": null
  },
  {
   "metadata": {},
   "cell_type": "markdown",
   "source": "### 8.2 Iteration by using `nditer()`.\n",
   "id": "4bd2cdc65e96b6d6"
  },
  {
   "metadata": {},
   "cell_type": "code",
   "source": [
    "#Iterating on each scalar element\n",
    "for x in np.nditer(np3):\n",
    "    print(x)"
   ],
   "id": "6c198556b272077f",
   "outputs": [],
   "execution_count": null
  },
  {
   "metadata": {},
   "cell_type": "code",
   "source": [
    "#Iterating with different data types\n",
    "for x in np.nditer(np3, flags=[\"buffered\"], op_dtypes=[\"float\"]):\n",
    "    print(x)"
   ],
   "id": "e6b344bdc74a1e2",
   "outputs": [],
   "execution_count": null
  },
  {
   "metadata": {},
   "cell_type": "code",
   "source": [
    "#Iterating with different step size\n",
    "for x in np.nditer(np3[:, :, ::2]):\n",
    "    print (x)"
   ],
   "id": "d359e4ac1b1aeb11",
   "outputs": [],
   "execution_count": null
  },
  {
   "metadata": {},
   "cell_type": "code",
   "source": [
    "#Enumerated iteration using ndenumerate()\n",
    "for idx, x in np.ndenumerate(np3):\n",
    "    print(idx, x)"
   ],
   "id": "827d1b4444770d67",
   "outputs": [],
   "execution_count": null
  },
  {
   "metadata": {},
   "cell_type": "markdown",
   "source": "## 9. Searching\n",
   "id": "30d2d6ba5181b73b"
  },
  {
   "metadata": {
    "ExecuteTime": {
     "end_time": "2025-04-21T15:22:17.645359Z",
     "start_time": "2025-04-21T15:22:17.636868Z"
    }
   },
   "cell_type": "code",
   "source": [
    "arr = np.array([1, 2, 3, 4 ,5, 4, 4,])\n",
    "x = np.where(arr == 4) # the value 4 is present at index 3, 5, and 6.\n",
    "print(x)"
   ],
   "id": "57d1c51898cdd449",
   "outputs": [
    {
     "name": "stdout",
     "output_type": "stream",
     "text": [
      "(array([3, 5, 6]),)\n"
     ]
    }
   ],
   "execution_count": 59
  },
  {
   "metadata": {
    "ExecuteTime": {
     "end_time": "2025-04-21T15:25:11.552936Z",
     "start_time": "2025-04-21T15:25:11.540245Z"
    }
   },
   "cell_type": "code",
   "source": [
    "# Searching for even values\n",
    "arr = np.array([1, 2, 3, 4, 5, 6, 7, 8])\n",
    "x = np.where(arr%2 == 0)\n",
    "print(x)"
   ],
   "id": "df3eebb70921e626",
   "outputs": [
    {
     "name": "stdout",
     "output_type": "stream",
     "text": [
      "(array([1, 3, 5, 7]),)\n"
     ]
    }
   ],
   "execution_count": 60
  },
  {
   "metadata": {},
   "cell_type": "code",
   "outputs": [],
   "execution_count": null,
   "source": [
    "# Searching for odd values\n",
    "arr = np.array([1, 2, 3, 4, 5, 6, 7, 8])\n",
    "x = np.where(arr%2 == 1)\n",
    "print(x)"
   ],
   "id": "92ef71204558a8bd"
  },
  {
   "metadata": {
    "ExecuteTime": {
     "end_time": "2025-04-21T15:30:41.596469Z",
     "start_time": "2025-04-21T15:30:41.589217Z"
    }
   },
   "cell_type": "code",
   "source": [
    "# Search sorted performs a binary search in the array. The method assumed to be used on sorted arrays.\n",
    "\n",
    "arr = np.array([6, 7, 8, 9])\n",
    "x = np.searchsorted(arr, 7) #find the value where the value 7 should be inserted, from left side.\n",
    "print(x)\n",
    "\n",
    "x = np.searchsorted(arr, 7, side=\"right\")\n",
    "print(x)"
   ],
   "id": "8aee2438bc468402",
   "outputs": [
    {
     "name": "stdout",
     "output_type": "stream",
     "text": [
      "1\n",
      "2\n"
     ]
    }
   ],
   "execution_count": 62
  },
  {
   "metadata": {
    "ExecuteTime": {
     "end_time": "2025-04-21T15:32:09.797844Z",
     "start_time": "2025-04-21T15:32:09.790845Z"
    }
   },
   "cell_type": "code",
   "source": [
    "#searchsorted with mulitple values\n",
    "arr = np.array([1, 3, 5, 7])\n",
    "x = np.searchsorted(arr, [2, 4, 6])\n",
    "print(x)"
   ],
   "id": "ae1620b723010320",
   "outputs": [
    {
     "name": "stdout",
     "output_type": "stream",
     "text": [
      "[1 2 3]\n"
     ]
    }
   ],
   "execution_count": 63
  }
 ],
 "metadata": {
  "kernelspec": {
   "display_name": "Python (math_ml_ds)",
   "language": "python",
   "name": "math_ml_ds"
  },
  "language_info": {
   "codemirror_mode": {
    "name": "ipython",
    "version": 3
   },
   "file_extension": ".py",
   "mimetype": "text/x-python",
   "name": "python",
   "nbconvert_exporter": "python",
   "pygments_lexer": "ipython3",
   "version": "3.11.12"
  }
 },
 "nbformat": 4,
 "nbformat_minor": 5
}
