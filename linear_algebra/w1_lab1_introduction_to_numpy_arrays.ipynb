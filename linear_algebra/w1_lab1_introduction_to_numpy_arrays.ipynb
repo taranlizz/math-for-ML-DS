{
 "cells": [
  {
   "metadata": {},
   "cell_type": "markdown",
   "source": [
    "## About Jupyter Notebooks\n",
    "Jupyter Notebooks are interactive coding journals that integrate live code, explanatory text, equations, visualisations and other multimedia resources.\n",
    "\n"
   ],
   "id": "7314dc35bdff08f4"
  },
  {
   "metadata": {
    "ExecuteTime": {
     "end_time": "2025-04-18T17:38:41.208757Z",
     "start_time": "2025-04-18T17:38:41.204207Z"
    }
   },
   "cell_type": "code",
   "source": [
    "test = \"Hello, world!\"\n",
    "print(test)"
   ],
   "id": "25205fff17495e91",
   "outputs": [
    {
     "name": "stdout",
     "output_type": "stream",
     "text": [
      "Hello, world!\n"
     ]
    }
   ],
   "execution_count": 4
  },
  {
   "metadata": {},
   "cell_type": "markdown",
   "source": [
    "# 1 - Basics of NumPy\n",
    "Numpy is the main package for scientific computing in Python. It performs a wide variety of advanced mathematical operations with high efficiency.\n"
   ],
   "id": "17f52524d24ad723"
  },
  {
   "metadata": {
    "ExecuteTime": {
     "end_time": "2025-04-18T17:38:41.185822Z",
     "start_time": "2025-04-18T17:11:04.023143Z"
    }
   },
   "cell_type": "code",
   "source": "import numpy as np",
   "id": "9d912ed4474ff8ef",
   "outputs": [],
   "execution_count": 3
  },
  {
   "metadata": {},
   "cell_type": "markdown",
   "source": [
    "## 1.1 Advantages of using NumPy arrays.\n",
    "Arrays are one of the core data structures in the NumPy library and are essential for organizing data. You can think of them as grids of values,\n",
    "all of the same type. In contrast, Python lists are more limited in functionality and require more space and time to process than NumPy arrays.\n",
    "\n",
    "NumPy provides an array object that is much faster and more compact than Python lists. Through its extensive API integration, the library offers many built-in functions that make computing much easier with only few lines of code.\n",
    "This can be a huge advantage when performing math operations on large datasets.\n",
    "\n",
    "The array object in NumPy is called `ndarray` meaning 'n-dimensional array'.\n",
    "A 1-D array represents a standard list of values entirely in one dimension.\n",
    "In NumPy, all of the elements within the array are of the same type.\n",
    "\n",
    "\n",
    "\n",
    "\n"
   ],
   "id": "ea385c9afef7b2fb"
  },
  {
   "metadata": {},
   "cell_type": "code",
   "outputs": [],
   "execution_count": null,
   "source": [
    "one_dimensional_arr = np.array([10, 12])\n",
    "print(one_dimensional_arr)"
   ],
   "id": "827a77b3f9d9bd32"
  },
  {
   "metadata": {},
   "cell_type": "markdown",
   "source": [
    "## 1.2 How to create NumPy arrays\n",
    "\n",
    "There are several ways to create an array in NumPy. You can create a 1-D array by simply the function `array()` which takes a list of values as an argument and returns 1-D array.\n",
    "\n"
   ],
   "id": "29d9239b19ab9429"
  },
  {
   "metadata": {
    "ExecuteTime": {
     "end_time": "2025-04-18T18:20:57.872485Z",
     "start_time": "2025-04-18T18:20:57.855030Z"
    }
   },
   "cell_type": "code",
   "source": [
    "# Create and print a NumPy array 'a' containing the elements 1, 2, 3.\n",
    "a = np.array([1, 2, 3])\n",
    "print(a)"
   ],
   "id": "f1e7e1a46821af22",
   "outputs": [
    {
     "name": "stdout",
     "output_type": "stream",
     "text": [
      "[1 2 3]\n"
     ]
    }
   ],
   "execution_count": 6
  },
  {
   "metadata": {},
   "cell_type": "markdown",
   "source": "Another way to implement an array is using `np.arange()`. This function will return an array of evenly spaced values within a given interval.\n",
   "id": "5623a4644a23ab7e"
  },
  {
   "metadata": {
    "ExecuteTime": {
     "end_time": "2025-04-18T18:24:09.509278Z",
     "start_time": "2025-04-18T18:24:09.503271Z"
    }
   },
   "cell_type": "code",
   "source": [
    "# Create an array with 3 integers, starting from the default integer 0.\n",
    "b = np.arange(3)\n",
    "print(b)"
   ],
   "id": "5fdea3be0513e371",
   "outputs": [
    {
     "name": "stdout",
     "output_type": "stream",
     "text": [
      "[0 1 2]\n"
     ]
    }
   ],
   "execution_count": 7
  },
  {
   "metadata": {
    "ExecuteTime": {
     "end_time": "2025-04-18T18:26:04.146252Z",
     "start_time": "2025-04-18T18:26:04.139175Z"
    }
   },
   "cell_type": "code",
   "source": [
    "# Create an array that from the integer 1, ends at 20, incremented by 3.\n",
    "# Create value with a specific step size, but stop value is not included.\n",
    "c = np.arange(1, 20, 3)\n",
    "print(c)"
   ],
   "id": "48f92c0de9113dbf",
   "outputs": [
    {
     "name": "stdout",
     "output_type": "stream",
     "text": [
      "[ 1  4  7 10 13 16 19]\n"
     ]
    }
   ],
   "execution_count": 8
  },
  {
   "metadata": {},
   "cell_type": "markdown",
   "source": "Another way to create an array with a specific number of evenly spaced elements from the start value to the stop value is by using `np.linspace()`.",
   "id": "f4b6b4679835959c"
  },
  {
   "metadata": {
    "ExecuteTime": {
     "end_time": "2025-04-18T19:35:43.693874Z",
     "start_time": "2025-04-18T19:35:43.666099Z"
    }
   },
   "cell_type": "code",
   "source": [
    "# Create an array that includes 5 elements spaced evenly from the integer 1 to integer 100.\n",
    "# Create a specific number of values between start and stop, stop value is included by default.\n",
    "lin_spaced_arr = np.linspace(0, 100, 5)\n",
    "print(lin_spaced_arr)"
   ],
   "id": "8236bd53f66892ea",
   "outputs": [
    {
     "name": "stdout",
     "output_type": "stream",
     "text": [
      "[  0.  25.  50.  75. 100.]\n"
     ]
    }
   ],
   "execution_count": 9
  },
  {
   "metadata": {},
   "cell_type": "markdown",
   "source": [
    "The default type for values in the NumPy function `np.linspace` is a floating point (`np.float64`). You can easily specify your data type using `dtype`.\n",
    "In addition to float, NumPy has several other data types such as `int`, and `char`.\n",
    "\n",
    "To change the type to integers, you need to set the dtype to int."
   ],
   "id": "9c983d1274745291"
  },
  {
   "metadata": {
    "ExecuteTime": {
     "end_time": "2025-04-18T19:43:08.093597Z",
     "start_time": "2025-04-18T19:43:08.081399Z"
    }
   },
   "cell_type": "code",
   "source": [
    "lin_spaced_arr_int = np.linspace(0, 100, 5, dtype=int)\n",
    "print(lin_spaced_arr_int)"
   ],
   "id": "8b16eedec892d5d0",
   "outputs": [
    {
     "name": "stdout",
     "output_type": "stream",
     "text": [
      "[  0  25  50  75 100]\n"
     ]
    }
   ],
   "execution_count": 10
  },
  {
   "metadata": {
    "ExecuteTime": {
     "end_time": "2025-04-18T19:44:02.299324Z",
     "start_time": "2025-04-18T19:44:02.285907Z"
    }
   },
   "cell_type": "code",
   "source": [
    "c_int = np.arange(1, 20, 3, dtype=int)\n",
    "print(c_int)"
   ],
   "id": "5986229d008519a2",
   "outputs": [
    {
     "name": "stdout",
     "output_type": "stream",
     "text": [
      "[ 1  4  7 10 13 16 19]\n"
     ]
    }
   ],
   "execution_count": 11
  },
  {
   "metadata": {
    "ExecuteTime": {
     "end_time": "2025-04-18T19:44:26.885842Z",
     "start_time": "2025-04-18T19:44:26.875709Z"
    }
   },
   "cell_type": "code",
   "source": [
    "b_float = np.arange(3, dtype=float)\n",
    "print(b_float)"
   ],
   "id": "1e946b46d8c74088",
   "outputs": [
    {
     "name": "stdout",
     "output_type": "stream",
     "text": [
      "[0. 1. 2.]\n"
     ]
    }
   ],
   "execution_count": 12
  },
  {
   "metadata": {
    "ExecuteTime": {
     "end_time": "2025-04-18T19:45:09.561909Z",
     "start_time": "2025-04-18T19:45:09.551465Z"
    }
   },
   "cell_type": "code",
   "source": [
    "char_arr = np.array([\"Welcome to Math for ML!\"])\n",
    "print(char_arr)\n",
    "print(char_arr.dtype)"
   ],
   "id": "2c12d6f879990df8",
   "outputs": [
    {
     "name": "stdout",
     "output_type": "stream",
     "text": [
      "['Welcome to Math for ML!']\n",
      "<U23\n"
     ]
    }
   ],
   "execution_count": 13
  },
  {
   "metadata": {},
   "cell_type": "markdown",
   "source": [
    "## 1.3 More on NumPy arrays\n",
    "One of the advantages of using NumPy is that you can easily create arrays with built-in functions such as:\n",
    "* `np.ones()` - returns a new array setting values to one.\n",
    "* `np.zeros()` - returns a new array setting values to zero.\n",
    "* `np.empty()` - returns a new uninitialized array.\n",
    "* `np.random.rand()` - returns a new array with values chosen at random."
   ],
   "id": "7baba711c67d9b"
  },
  {
   "metadata": {
    "ExecuteTime": {
     "end_time": "2025-04-18T20:53:55.333572Z",
     "start_time": "2025-04-18T20:53:55.323767Z"
    }
   },
   "cell_type": "code",
   "source": [
    "# Return a new array of shape 3, filled with ones.\n",
    "ones_arr = np.ones(3)\n",
    "print(ones_arr)"
   ],
   "id": "a6c368087d44588a",
   "outputs": [
    {
     "name": "stdout",
     "output_type": "stream",
     "text": [
      "[1. 1. 1.]\n"
     ]
    }
   ],
   "execution_count": 15
  },
  {
   "metadata": {
    "ExecuteTime": {
     "end_time": "2025-04-18T20:54:35.045993Z",
     "start_time": "2025-04-18T20:54:35.038662Z"
    }
   },
   "cell_type": "code",
   "source": [
    "# Return a new array of shape 3, filled with zeros.\n",
    "zeros_arr = np.zeros(3)\n",
    "print(zeros_arr)"
   ],
   "id": "a8ccfa5eec1e93bd",
   "outputs": [
    {
     "name": "stdout",
     "output_type": "stream",
     "text": [
      "[0. 0. 0.]\n"
     ]
    }
   ],
   "execution_count": 16
  },
  {
   "metadata": {
    "ExecuteTime": {
     "end_time": "2025-04-18T20:55:12.355841Z",
     "start_time": "2025-04-18T20:55:12.345712Z"
    }
   },
   "cell_type": "code",
   "source": [
    "# Return a new array of shape 3, without initializing entries.\n",
    "empt_arr = np.empty(3)\n",
    "print(empt_arr)"
   ],
   "id": "d46f842105548577",
   "outputs": [
    {
     "name": "stdout",
     "output_type": "stream",
     "text": [
      "[0. 0. 0.]\n"
     ]
    }
   ],
   "execution_count": 17
  },
  {
   "metadata": {
    "ExecuteTime": {
     "end_time": "2025-04-18T20:56:01.719664Z",
     "start_time": "2025-04-18T20:56:01.571254Z"
    }
   },
   "cell_type": "code",
   "source": [
    "# Return a new array of shape 3 with random numbers between 0 and 1.\n",
    "rand_arr = np.random.rand(3)\n",
    "print(rand_arr)"
   ],
   "id": "73701e95a64eb27a",
   "outputs": [
    {
     "name": "stdout",
     "output_type": "stream",
     "text": [
      "[0.95590368 0.17484062 0.61133475]\n"
     ]
    }
   ],
   "execution_count": 18
  }
 ],
 "metadata": {
  "kernelspec": {
   "name": "math_ml_ds",
   "language": "python",
   "display_name": "Python (math_ml_ds)"
  }
 },
 "nbformat": 5,
 "nbformat_minor": 9
}
