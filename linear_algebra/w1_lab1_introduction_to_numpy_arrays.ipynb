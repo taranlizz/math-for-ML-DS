{
 "cells": [
  {
   "metadata": {},
   "cell_type": "markdown",
   "source": [
    "## About Jupyter Notebooks\n",
    "Jupyter Notebooks are interactive coding journals that integrate live code, explanatory text, equations, visualisations and other multimedia resources.\n",
    "\n"
   ],
   "id": "7314dc35bdff08f4"
  },
  {
   "metadata": {
    "ExecuteTime": {
     "end_time": "2025-04-18T17:38:41.208757Z",
     "start_time": "2025-04-18T17:38:41.204207Z"
    }
   },
   "cell_type": "code",
   "source": [
    "test = \"Hello, world!\"\n",
    "print(test)"
   ],
   "id": "25205fff17495e91",
   "outputs": [
    {
     "name": "stdout",
     "output_type": "stream",
     "text": [
      "Hello, world!\n"
     ]
    }
   ],
   "execution_count": 4
  },
  {
   "metadata": {},
   "cell_type": "markdown",
   "source": [
    "# 1 - Basics of NumPy\n",
    "Numpy is the main package for scientific computing in Python. It performs a wide variety of advanced mathematical operations with high efficiency.\n"
   ],
   "id": "17f52524d24ad723"
  },
  {
   "metadata": {
    "ExecuteTime": {
     "end_time": "2025-04-18T17:38:41.185822Z",
     "start_time": "2025-04-18T17:11:04.023143Z"
    }
   },
   "cell_type": "code",
   "source": "import numpy as np",
   "id": "9d912ed4474ff8ef",
   "outputs": [],
   "execution_count": 3
  },
  {
   "metadata": {},
   "cell_type": "markdown",
   "source": [
    "## 1.1 Advantages of using NumPy arrays.\n",
    "Arrays are one of the core data structures in the NumPy library and are essential for organizing data. You can think of them as grids of values,\n",
    "all of the same type. In contrast, Python lists are more limited in functionality and require more space and time to process than NumPy arrays.\n",
    "\n",
    "NumPy provides an array object that is much faster and more compact than Python lists. Through its extensive API integration, the library offers many built-in functions that make computing much easier with only few lines of code.\n",
    "This can be a huge advantage when performing math operations on large datasets.\n",
    "\n",
    "The array object in NumPy is called `ndarray` meaning 'n-dimensional array'.\n",
    "A 1-D array represents a standard list of values entirely in one dimension.\n",
    "In NumPy, all of the elements within the array are of the same type.\n",
    "\n",
    "\n",
    "\n",
    "\n"
   ],
   "id": "ea385c9afef7b2fb"
  },
  {
   "metadata": {},
   "cell_type": "code",
   "outputs": [],
   "execution_count": null,
   "source": [
    "one_dimensional_arr = np.array([10, 12])\n",
    "print(one_dimensional_arr)"
   ],
   "id": "827a77b3f9d9bd32"
  },
  {
   "metadata": {},
   "cell_type": "markdown",
   "source": [
    "## 1.2 How to create NumPy arrays\n",
    "\n",
    "There are several ways to create an array in NumPy. You can create a 1-D array by simply the function `array()` which takes a list of values as an argument and returns 1-D array.\n",
    "\n"
   ],
   "id": "29d9239b19ab9429"
  },
  {
   "metadata": {
    "ExecuteTime": {
     "end_time": "2025-04-18T23:41:37.001147Z",
     "start_time": "2025-04-18T23:41:36.977518Z"
    }
   },
   "cell_type": "code",
   "source": [
    "# Create and print a NumPy array 'a' containing the elements 1, 2, 3.\n",
    "a = np.array([1, 2, 3])\n",
    "print(a)"
   ],
   "id": "f1e7e1a46821af22",
   "outputs": [
    {
     "name": "stdout",
     "output_type": "stream",
     "text": [
      "[1 2 3]\n",
      "<class 'numpy.ndarray'>\n"
     ]
    }
   ],
   "execution_count": 21
  },
  {
   "metadata": {},
   "cell_type": "markdown",
   "source": "Another way to implement an array is using `np.arange()`. This function will return an array of evenly spaced values within a given interval.\n",
   "id": "5623a4644a23ab7e"
  },
  {
   "metadata": {
    "ExecuteTime": {
     "end_time": "2025-04-18T18:24:09.509278Z",
     "start_time": "2025-04-18T18:24:09.503271Z"
    }
   },
   "cell_type": "code",
   "source": [
    "# Create an array with 3 integers, starting from the default integer 0.\n",
    "b = np.arange(3)\n",
    "print(b)"
   ],
   "id": "5fdea3be0513e371",
   "outputs": [
    {
     "name": "stdout",
     "output_type": "stream",
     "text": [
      "[0 1 2]\n"
     ]
    }
   ],
   "execution_count": 7
  },
  {
   "metadata": {
    "ExecuteTime": {
     "end_time": "2025-04-18T18:26:04.146252Z",
     "start_time": "2025-04-18T18:26:04.139175Z"
    }
   },
   "cell_type": "code",
   "source": [
    "# Create an array that from the integer 1, ends at 20, incremented by 3.\n",
    "# Create value with a specific step size, but stop value is not included.\n",
    "c = np.arange(1, 20, 3)\n",
    "print(c)"
   ],
   "id": "48f92c0de9113dbf",
   "outputs": [
    {
     "name": "stdout",
     "output_type": "stream",
     "text": [
      "[ 1  4  7 10 13 16 19]\n"
     ]
    }
   ],
   "execution_count": 8
  },
  {
   "metadata": {},
   "cell_type": "markdown",
   "source": "Another way to create an array with a specific number of evenly spaced elements from the start value to the stop value is by using `np.linspace()`.",
   "id": "f4b6b4679835959c"
  },
  {
   "metadata": {
    "ExecuteTime": {
     "end_time": "2025-04-18T19:35:43.693874Z",
     "start_time": "2025-04-18T19:35:43.666099Z"
    }
   },
   "cell_type": "code",
   "source": [
    "# Create an array that includes 5 elements spaced evenly from the integer 1 to integer 100.\n",
    "# Create a specific number of values between start and stop, stop value is included by default.\n",
    "lin_spaced_arr = np.linspace(0, 100, 5)\n",
    "print(lin_spaced_arr)"
   ],
   "id": "8236bd53f66892ea",
   "outputs": [
    {
     "name": "stdout",
     "output_type": "stream",
     "text": [
      "[  0.  25.  50.  75. 100.]\n"
     ]
    }
   ],
   "execution_count": 9
  },
  {
   "metadata": {},
   "cell_type": "markdown",
   "source": [
    "The default type for values in the NumPy function `np.linspace` is a floating point (`np.float64`). You can easily specify your data type using `dtype`.\n",
    "In addition to float, NumPy has several other data types such as `int`, and `char`.\n",
    "\n",
    "To change the type to integers, you need to set the dtype to int."
   ],
   "id": "9c983d1274745291"
  },
  {
   "metadata": {
    "ExecuteTime": {
     "end_time": "2025-04-18T19:43:08.093597Z",
     "start_time": "2025-04-18T19:43:08.081399Z"
    }
   },
   "cell_type": "code",
   "source": [
    "lin_spaced_arr_int = np.linspace(0, 100, 5, dtype=int)\n",
    "print(lin_spaced_arr_int)"
   ],
   "id": "8b16eedec892d5d0",
   "outputs": [
    {
     "name": "stdout",
     "output_type": "stream",
     "text": [
      "[  0  25  50  75 100]\n"
     ]
    }
   ],
   "execution_count": 10
  },
  {
   "metadata": {
    "ExecuteTime": {
     "end_time": "2025-04-18T19:44:02.299324Z",
     "start_time": "2025-04-18T19:44:02.285907Z"
    }
   },
   "cell_type": "code",
   "source": [
    "c_int = np.arange(1, 20, 3, dtype=int)\n",
    "print(c_int)"
   ],
   "id": "5986229d008519a2",
   "outputs": [
    {
     "name": "stdout",
     "output_type": "stream",
     "text": [
      "[ 1  4  7 10 13 16 19]\n"
     ]
    }
   ],
   "execution_count": 11
  },
  {
   "metadata": {
    "ExecuteTime": {
     "end_time": "2025-04-18T19:44:26.885842Z",
     "start_time": "2025-04-18T19:44:26.875709Z"
    }
   },
   "cell_type": "code",
   "source": [
    "b_float = np.arange(3, dtype=float)\n",
    "print(b_float)"
   ],
   "id": "1e946b46d8c74088",
   "outputs": [
    {
     "name": "stdout",
     "output_type": "stream",
     "text": [
      "[0. 1. 2.]\n"
     ]
    }
   ],
   "execution_count": 12
  },
  {
   "metadata": {
    "ExecuteTime": {
     "end_time": "2025-04-18T19:45:09.561909Z",
     "start_time": "2025-04-18T19:45:09.551465Z"
    }
   },
   "cell_type": "code",
   "source": [
    "char_arr = np.array([\"Welcome to Math for ML!\"])\n",
    "print(char_arr)\n",
    "print(char_arr.dtype)"
   ],
   "id": "2c12d6f879990df8",
   "outputs": [
    {
     "name": "stdout",
     "output_type": "stream",
     "text": [
      "['Welcome to Math for ML!']\n",
      "<U23\n"
     ]
    }
   ],
   "execution_count": 13
  },
  {
   "metadata": {},
   "cell_type": "markdown",
   "source": [
    "## 1.3 More on NumPy arrays\n",
    "One of the advantages of using NumPy is that you can easily create arrays with built-in functions such as:\n",
    "* `np.ones()` - returns a new array setting values to one.\n",
    "* `np.zeros()` - returns a new array setting values to zero.\n",
    "* `np.empty()` - returns a new uninitialized array.\n",
    "* `np.random.rand()` - returns a new array with values chosen at random."
   ],
   "id": "7baba711c67d9b"
  },
  {
   "metadata": {
    "ExecuteTime": {
     "end_time": "2025-04-18T20:53:55.333572Z",
     "start_time": "2025-04-18T20:53:55.323767Z"
    }
   },
   "cell_type": "code",
   "source": [
    "# Return a new array of shape 3, filled with ones.\n",
    "ones_arr = np.ones(3)\n",
    "print(ones_arr)"
   ],
   "id": "a6c368087d44588a",
   "outputs": [
    {
     "name": "stdout",
     "output_type": "stream",
     "text": [
      "[1. 1. 1.]\n"
     ]
    }
   ],
   "execution_count": 15
  },
  {
   "metadata": {
    "ExecuteTime": {
     "end_time": "2025-04-18T20:54:35.045993Z",
     "start_time": "2025-04-18T20:54:35.038662Z"
    }
   },
   "cell_type": "code",
   "source": [
    "# Return a new array of shape 3, filled with zeros.\n",
    "zeros_arr = np.zeros(3)\n",
    "print(zeros_arr)"
   ],
   "id": "a8ccfa5eec1e93bd",
   "outputs": [
    {
     "name": "stdout",
     "output_type": "stream",
     "text": [
      "[0. 0. 0.]\n"
     ]
    }
   ],
   "execution_count": 16
  },
  {
   "metadata": {
    "ExecuteTime": {
     "end_time": "2025-04-18T21:22:07.521105Z",
     "start_time": "2025-04-18T21:22:07.512093Z"
    }
   },
   "cell_type": "code",
   "source": [
    "# Return a new array of shape 3, without initializing entries.\n",
    "empt_arr = np.empty(3)\n",
    "print(empt_arr)"
   ],
   "id": "d46f842105548577",
   "outputs": [
    {
     "name": "stdout",
     "output_type": "stream",
     "text": [
      "[0. 0. 0.]\n"
     ]
    }
   ],
   "execution_count": 20
  },
  {
   "metadata": {
    "ExecuteTime": {
     "end_time": "2025-04-18T20:56:01.719664Z",
     "start_time": "2025-04-18T20:56:01.571254Z"
    }
   },
   "cell_type": "code",
   "source": [
    "# Return a new array of shape 3 with random numbers between 0 and 1.\n",
    "rand_arr = np.random.rand(3)\n",
    "print(rand_arr)"
   ],
   "id": "73701e95a64eb27a",
   "outputs": [
    {
     "name": "stdout",
     "output_type": "stream",
     "text": [
      "[0.95590368 0.17484062 0.61133475]\n"
     ]
    }
   ],
   "execution_count": 18
  },
  {
   "metadata": {},
   "cell_type": "markdown",
   "source": [
    "# 2. Multidimensional arrays\n",
    "With NumPy you can also create arrays with more than one dimension.\n",
    "A multidimensional array has more than one column.\n",
    "\n",
    "![dimensions](data:image/png;base64,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)"
   ],
   "id": "712f70576161259a"
  },
  {
   "metadata": {
    "ExecuteTime": {
     "end_time": "2025-04-18T23:49:13.640867Z",
     "start_time": "2025-04-18T23:49:13.625888Z"
    }
   },
   "cell_type": "code",
   "source": [
    "# Create a 2 dimensional array (2-D)\n",
    "two_dim_arr = np.array([[1, 2, 3], [4, 5 ,6]])\n",
    "print(two_dim_arr)"
   ],
   "id": "910001fe7c5b9f",
   "outputs": [
    {
     "name": "stdout",
     "output_type": "stream",
     "text": [
      "[[1 2 3]\n",
      " [4 5 6]]\n"
     ]
    }
   ],
   "execution_count": 22
  },
  {
   "metadata": {},
   "cell_type": "markdown",
   "source": "An alternative way to create a multidimensional array is by reshaping the initial 1-D array. Using `np.reshape()` you can rearrange elements of the previous array into a new shape.",
   "id": "b8d59dba21b66d4a"
  },
  {
   "metadata": {
    "ExecuteTime": {
     "end_time": "2025-04-18T23:53:21.295827Z",
     "start_time": "2025-04-18T23:53:21.282738Z"
    }
   },
   "cell_type": "code",
   "source": [
    "# 1-D array\n",
    "one_dim_arr = np.array([1,2,3,4,5,6])\n",
    "# Multidimensional array using reshape()\n",
    "multi_dim_arr = np.reshape(one_dim_arr, #the array to be reshaped\n",
    "                           (2, 3)) #dimensions of the new array\n",
    "# Print the new 2-D array with two rows and three columns\n",
    "print(multi_dim_arr)"
   ],
   "id": "aba9801ed9417368",
   "outputs": [
    {
     "name": "stdout",
     "output_type": "stream",
     "text": [
      "[[1 2 3]\n",
      " [4 5 6]]\n"
     ]
    }
   ],
   "execution_count": 24
  },
  {
   "metadata": {},
   "cell_type": "markdown",
   "source": [
    "## 2.1 - Finding size, shape and dimension.\n",
    "In future assignments, you will need to know how to find the size, dimension and shape of an array.\n",
    "These are all attributes of a `ndarray` and can be accessed as follows:\n",
    "* `ndarray.ndim` - stores the number dimensions of the array.\n",
    "* `ndarray.shape` - stores the shape of the array. each number in the tuple denotes the length of each corresponding dimension.\n",
    "* `ndarray.size` - stores the number of elements in the array.\n",
    "\n"
   ],
   "id": "fc87ccf6902afeee"
  },
  {
   "metadata": {
    "ExecuteTime": {
     "end_time": "2025-04-19T00:14:46.133603Z",
     "start_time": "2025-04-19T00:14:46.054698Z"
    }
   },
   "cell_type": "code",
   "source": [
    "# Dimension of the 2-D array multi_dim_arr\n",
    "multi_dim_arr.ndim"
   ],
   "id": "63cd58ca02036a5b",
   "outputs": [
    {
     "data": {
      "text/plain": [
       "2"
      ]
     },
     "execution_count": 25,
     "metadata": {},
     "output_type": "execute_result"
    }
   ],
   "execution_count": 25
  },
  {
   "metadata": {
    "ExecuteTime": {
     "end_time": "2025-04-19T00:15:24.994079Z",
     "start_time": "2025-04-19T00:15:24.973315Z"
    }
   },
   "cell_type": "code",
   "source": [
    "# Shape of the 2-D array multi_dim_arr\n",
    "multi_dim_arr.shape"
   ],
   "id": "2aac2ee1c6c6a130",
   "outputs": [
    {
     "data": {
      "text/plain": [
       "(2, 3)"
      ]
     },
     "execution_count": 26,
     "metadata": {},
     "output_type": "execute_result"
    }
   ],
   "execution_count": 26
  },
  {
   "metadata": {
    "ExecuteTime": {
     "end_time": "2025-04-19T00:15:52.800473Z",
     "start_time": "2025-04-19T00:15:52.791392Z"
    }
   },
   "cell_type": "code",
   "source": [
    "# Size of the array multi_dim_arr\n",
    "multi_dim_arr.size"
   ],
   "id": "852089d70945cbca",
   "outputs": [
    {
     "data": {
      "text/plain": [
       "6"
      ]
     },
     "execution_count": 27,
     "metadata": {},
     "output_type": "execute_result"
    }
   ],
   "execution_count": 27
  },
  {
   "metadata": {},
   "cell_type": "markdown",
   "source": [
    "# 3. Array math operations\n",
    "NumPy allows to quickly perform element-wise addition, subtraction, multiplication and division for both 1-D and multidimensional arrays.\n",
    "The operations are performed using the math symbol for each '+', '-', and '*'.\n"
   ],
   "id": "9a19753a62f89549"
  },
  {
   "metadata": {
    "ExecuteTime": {
     "end_time": "2025-04-19T00:20:14.355559Z",
     "start_time": "2025-04-19T00:20:14.336606Z"
    }
   },
   "cell_type": "code",
   "source": [
    "arr_1 = np.array([2, 4, 6])\n",
    "arr_2 = np.array([1, 3, 5])\n",
    "\n",
    "# Adding two 1-D arrays\n",
    "addition = arr_1 + arr_2\n",
    "print(addition)\n",
    "\n",
    "# Subtracting two 1-D arrays\n",
    "subtraction = arr_1 - arr_2\n",
    "print(subtraction)\n",
    "\n",
    "# Multiplying two 1-D arrays element-wise\n",
    "multiplication = arr_1 * arr_2\n",
    "print(multiplication)"
   ],
   "id": "b8c619afeb24ec82",
   "outputs": [
    {
     "name": "stdout",
     "output_type": "stream",
     "text": [
      "[ 3  7 11]\n",
      "[1 1 1]\n",
      "[ 2 12 30]\n"
     ]
    }
   ],
   "execution_count": 28
  },
  {
   "metadata": {},
   "cell_type": "markdown",
   "source": [
    "## 3.1 - Multiplying vector with a scalar (Broadcasting)\n",
    "Broadcasting is a way of performing operations on arrays of different shapes without explicitly copying or reshaping them.\n",
    "\n",
    "NumPy automatically \"stretches\" the smaller array along the mismatched dimensions so that element-wise operations can be done without loops.\n"
   ],
   "id": "ccb3c8eaf8f08bbb"
  },
  {
   "metadata": {
    "ExecuteTime": {
     "end_time": "2025-04-19T00:42:25.865444Z",
     "start_time": "2025-04-19T00:42:25.846199Z"
    }
   },
   "cell_type": "code",
   "source": [
    "vector = np.array([1, 2])\n",
    "vector * 1.6"
   ],
   "id": "8bf42826fb31a6c4",
   "outputs": [
    {
     "data": {
      "text/plain": [
       "(array([1, 2]), 6)"
      ]
     },
     "execution_count": 30,
     "metadata": {},
     "output_type": "execute_result"
    }
   ],
   "execution_count": 30
  }
 ],
 "metadata": {
  "kernelspec": {
   "name": "math_ml_ds",
   "language": "python",
   "display_name": "Python (math_ml_ds)"
  }
 },
 "nbformat": 5,
 "nbformat_minor": 9
}
