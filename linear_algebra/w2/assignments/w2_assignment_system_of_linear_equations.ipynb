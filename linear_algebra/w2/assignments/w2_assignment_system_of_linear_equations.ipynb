{
 "cells": [
  {
   "metadata": {},
   "cell_type": "markdown",
   "source": "# Systems of linear equations",
   "id": "a560ff98f90f9ac2"
  },
  {
   "metadata": {},
   "cell_type": "code",
   "source": "import numpy as np",
   "id": "85581230e0211df7",
   "outputs": [],
   "execution_count": null
  },
  {
   "metadata": {},
   "cell_type": "code",
   "source": "import w2_unittest",
   "id": "54d97d5ec1a1fb77",
   "outputs": [],
   "execution_count": null
  },
  {
   "metadata": {},
   "cell_type": "markdown",
   "source": [
    "## 1. - System of linear equations and corresponding `NumPy` arrays\n",
    "Matrices can be used to solve systems of equations.\n",
    "But first, you need to represent the system using matrices.\n",
    "Given the following system of linear equations:\n",
    "$$\n",
    "\\left\\{\n",
    "\\begin{aligned}\n",
    "2x_1 - x_2 + x_3 + x_4 &= 6, \\\\\n",
    "x_1 + 2x_2 - x_3 - x_4 &= 3, \\\\\n",
    "-x_1 + 2x_2 + 2x_3 + 2x_4 &= 14, \\\\\n",
    "x_1 - x_2 + 2x_3 + x_4 &= 8,\n",
    "\\end{aligned}\n",
    "\\right.\n",
    "$$\n",
    "you will construct matrix __A__, where each row represents one equation in the system and each column represents a variable x1, x2, x3, x4.\n",
    "The free coefficients from the right sides of the equations you will put into vector __b__.\n"
   ],
   "id": "d6a4423ac4fb0896"
  },
  {
   "metadata": {},
   "cell_type": "markdown",
   "source": [
    "### Exercise 1\n",
    "Construct matrix __A__ and vector __b__ corresponding to the system of linear equations.\n"
   ],
   "id": "3c14cb1edc788e5d"
  },
  {
   "metadata": {},
   "cell_type": "code",
   "source": [
    "### START CODE HERE ###\n",
    "A = np.array([[2, -1, 1, 1], [1, 2, -1, -1], [-1, 2, 2, 2], [1, -1, 2, 1]], dtype=float)\n",
    "b = np.array([6, 3, 14, 8], dtype=float)\n",
    "print(f\"The matrix A: \\n {A}\")\n",
    "print(f\"The matrix b: \\n {b}\")\n",
    "### END CODE HERE ###"
   ],
   "id": "8d2f4c44239ad5c3",
   "outputs": [],
   "execution_count": null
  },
  {
   "metadata": {},
   "cell_type": "code",
   "source": [
    "# Test your solution\n",
    "w2_unittest.test_matrix(A, b)"
   ],
   "id": "73f60de9bc67d094",
   "outputs": [],
   "execution_count": null
  },
  {
   "metadata": {},
   "cell_type": "markdown",
   "source": [
    "## 2. - Solution for the system of equations with `NumPy` linear algebra package\n",
    "A system of four linear equations with four unknown variables has a unique solution if and only if the determinant of the corresponding matrix of coefficients is not equal to zero.\n",
    "`NumPy` provides quick and reliable ways to calculate the determinant of a square matrix and also to solve the system of linear equations.\n",
    "\n",
    "### Exercise 2\n",
    "Find the determinant d of matrix A and the solution vector x for the system of linear equations.\n",
    "\n"
   ],
   "id": "d7851950e6a6f987"
  },
  {
   "metadata": {},
   "cell_type": "code",
   "source": [
    "### START CODE HERE ###\n",
    "\n",
    "d = np.linalg.det(A)\n",
    "x = np.linalg.solve(A, b)\n",
    "\n",
    "print(f\"The determinant of the matrix A: {d:.2f} \")\n",
    "print(f\"The solution vector of the matrix A: \\n {x}\")\n",
    "### END CODE HERE ###"
   ],
   "id": "995629688ae6bcf6",
   "outputs": [],
   "execution_count": null
  },
  {
   "metadata": {},
   "cell_type": "code",
   "source": [
    "# Test your solution\n",
    "w2_unittest.test_det_and_solution_scipy(d, x)"
   ],
   "id": "e764713d879ecb5d",
   "outputs": [],
   "execution_count": null
  },
  {
   "metadata": {},
   "cell_type": "markdown",
   "source": [
    "## 3. - Elementary operations and row reduction\n",
    "Even though the contemporary packages allow to find solution  with one line of the code, performing required algebraic operations manually helps to build foundations which are necessary for deep understanding of the machine learning algorithms.\n",
    "\n",
    "Here you will solve the system of linear equations algebraically using row reduction.\n",
    "It involves combination of the equations using elementary operations, eliminating as many variables as possible for each equation.\n",
    "There are three valid operations which can be performed to bring the system of equations to equivalent one (with the same solution):\n",
    "\n",
    "* Multiply any row by non-zero number\n",
    "* Add two rows and exchange on of the original rows with the result of the addition\n",
    "* Swap rows\n",
    "\n",
    "### Exersice 3"
   ],
   "id": "55065b15f61db092"
  },
  {
   "metadata": {},
   "cell_type": "code",
   "source": [
    "### START CODE HERE ###\n",
    "def multiply_row(m, row_num, row_num_multiple):\n",
    "\n",
    "    if row_num > len(m) - 1:\n",
    "        raise ValueError(\"The row_num must not exceed the number of matrix rows.\")\n",
    "    if row_num_multiple == 0:\n",
    "        raise ValueError(\"The row_num_multiple must be a non-zero value.\")\n",
    "\n",
    "    m_copy = m.copy()\n",
    "    m_copy[row_num] = m_copy[row_num] * row_num_multiple\n",
    "\n",
    "    return m_copy\n",
    "\n",
    "def add_rows(m, row1_num, row2_num, row1_num_multiple = 1):\n",
    "\n",
    "    if row1_num > len(m) - 1 or row2_num > len(m) - 1:\n",
    "        raise ValueError(\"The row_num must not exceed the number of matrix rows.\")\n",
    "    if row1_num_multiple == 0:\n",
    "        raise ValueError(\"The row_num_multiple must be a non-zero value.\")\n",
    "\n",
    "    m_copy = m.copy()\n",
    "    m_copy[row2_num] += m_copy[row1_num] * row1_num_multiple\n",
    "    return m_copy\n",
    "\n",
    "def swap_rows(m, row1_num, row2_num):\n",
    "\n",
    "    if row1_num > len(m) - 1 or row2_num > len(m) - 1:\n",
    "        raise ValueError(\"The row_num must not exceed the number of matrix rows.\")\n",
    "\n",
    "    m_copy = m.copy()\n",
    "    m_copy[[row1_num, row2_num]] = m_copy[[row2_num, row1_num]]\n",
    "    return m_copy\n",
    "\n",
    "### END CODE HERE ###"
   ],
   "id": "9a51b7a79cd9dfd4",
   "outputs": [],
   "execution_count": null
  },
  {
   "metadata": {},
   "cell_type": "markdown",
   "source": "Check your code using the following cell:\n",
   "id": "5eee27273898ddc0"
  },
  {
   "metadata": {},
   "cell_type": "code",
   "source": [
    "A_test = np.array([\n",
    "        [1, -2, 3, -4],\n",
    "        [-5, 6, -7, 8],\n",
    "        [-4, 3, -2, 1],\n",
    "        [8, -7, 6, -5]\n",
    "    ], dtype=np.dtype(float))\n",
    "\n",
    "print(f\"Original matrix: \\n {A_test}\")\n",
    "print(f\"Original matrix after its third row is multiplied by -2: \\n {multiply_row(A_test, 2, -2)}\")\n",
    "print(f\"Original matrix after exchange of the third row with the sum of itself and first row multiplied by 4: \\n {add_rows(A_test, 0, 2, 4)} \")\n",
    "print(f\"Original matrix after exchange of its first and third rows: \\n {swap_rows(A_test, 0, 2)}\")"
   ],
   "id": "3a56a06ddd92a603",
   "outputs": [],
   "execution_count": null
  },
  {
   "metadata": {},
   "cell_type": "code",
   "source": [
    "# Test your solution\n",
    "w2_unittest.test_elementary_operations(multiply_row, add_rows, swap_rows)"
   ],
   "id": "6edff5137b4c8a84",
   "outputs": [],
   "execution_count": null
  },
  {
   "metadata": {},
   "cell_type": "markdown",
   "source": [
    "### Exercise 4\n",
    "Apply elementary operations to the defined above matrix A, performing row reduction according to the given instructions.\n"
   ],
   "id": "fdbe6fe328788006"
  },
  {
   "metadata": {},
   "cell_type": "code",
   "source": [
    "### START CODE HERE ###\n",
    "def augmented_to_ref(A, b):\n",
    "    A_system = np.hstack((A, b.reshape((4, 1))))\n",
    "    A_ref = swap_rows(A_system, 0, 1)\n",
    "    A_ref = add_rows(A_ref, 0, 1, -2)\n",
    "    A_ref = add_rows(A_ref, 0, 2)\n",
    "    A_ref = add_rows(A_ref, 0, 3, -1)\n",
    "    A_ref = add_rows(A_ref, 2, 3)\n",
    "    A_ref = swap_rows(A_ref, 3, 1)\n",
    "    A_ref = add_rows(A_ref, 2, 3)\n",
    "    A_ref = add_rows(A_ref, 1, 2, -4)\n",
    "    A_ref = add_rows(A_ref, 1, 3)\n",
    "    A_ref = add_rows(A_ref, 3, 2, 2)\n",
    "    A_ref = add_rows(A_ref, 2, 3, -8)\n",
    "    A_ref = multiply_row(A_ref, 3, -1/17)\n",
    "    return A_ref\n",
    "### END CODE HERE ###"
   ],
   "id": "f6331826bba023e5",
   "outputs": [],
   "execution_count": null
  },
  {
   "metadata": {},
   "cell_type": "code",
   "source": [
    "#Test your solution\n",
    "w2_unittest.test_augmented_to_ref(augmented_to_ref)"
   ],
   "id": "bf40fcd3b06afe25",
   "outputs": [],
   "execution_count": null
  },
  {
   "metadata": {},
   "cell_type": "markdown",
   "source": [
    "# 4. - Solution for the system of equations using row reduction\n",
    "The solution can be found from the reduced form manually.\n",
    "From the last line you can find x4, then you can calculate each of the x3, x2, and x1 taking the elements of the matrix `A_ref[i, j` and solving the linear equations one by one.\n"
   ],
   "id": "2ad49635e85a53a2"
  },
  {
   "metadata": {},
   "cell_type": "markdown",
   "source": [
    "## Exercise 5\n",
    "From the last line of the reduced matrix `A_ref` find x4.\n",
    "Then you cna calculate each of the x3, x2, and x1 taking the elements of the matrix `A_ref[i,j]` and solving the linear equations one by one."
   ],
   "id": "b9c938eb5eabd9bb"
  },
  {
   "metadata": {},
   "cell_type": "code",
   "source": "A_ref = augmented_to_ref(A, b)",
   "id": "e77d6caea2e385ef",
   "outputs": [],
   "execution_count": null
  },
  {
   "metadata": {},
   "cell_type": "code",
   "source": [
    "### START CODE HERE ###\n",
    "x_4 = A_ref[3, 4]\n",
    "x_3 = A_ref[2, 4] - 3 * x_4\n",
    "x_2 = A_ref[1, 4] - 4 * x_3 - 3 * x_4\n",
    "x_1 = A_ref[0, 4] - 2 * x_2 + x_3 + x_4\n",
    "### END CODE HERE ###"
   ],
   "id": "2c61a6c7e9b6d473",
   "outputs": [],
   "execution_count": null
  },
  {
   "metadata": {},
   "cell_type": "code",
   "source": [
    "# Test your solution\n",
    "w2_unittest.test_solution_elimination(x_1, x_2, x_3, x_4)"
   ],
   "id": "db98657f31ecc302",
   "outputs": [],
   "execution_count": null
  },
  {
   "metadata": {},
   "cell_type": "markdown",
   "source": "### Exercise 6",
   "id": "41f8abae84872037"
  },
  {
   "metadata": {},
   "cell_type": "markdown",
   "source": "Using the same elementary operations as above you can reduce the matrix further to diagonal form, from which you can see the solutions easily.\n",
   "id": "28e5ae76e227a86b"
  },
  {
   "metadata": {},
   "cell_type": "code",
   "source": "print(A_ref)",
   "id": "f015359b5f54fda7",
   "outputs": [],
   "execution_count": null
  },
  {
   "metadata": {},
   "cell_type": "code",
   "source": [
    "def ref_to_diagonal(A_ref):\n",
    "    ### START CODE HERE ###\n",
    "    A_diag = add_rows(A_ref, 1, 0, -2)\n",
    "    A_diag = add_rows(A_diag, 2, 1, -4)\n",
    "    A_diag = add_rows(A_diag, 2, 0, 9)\n",
    "    A_diag = add_rows(A_diag, 3, 2, -3)\n",
    "    A_diag = add_rows(A_diag, 3, 1, 9)\n",
    "    A_diag = add_rows(A_diag, 3, 0, -20)\n",
    "    ### END CODE HERE ###\n",
    "    return A_diag\n",
    "print(ref_to_diagonal(A_ref))"
   ],
   "id": "72b09c3a7de0663b",
   "outputs": [],
   "execution_count": null
  },
  {
   "metadata": {},
   "cell_type": "code",
   "source": [
    "# Test your solution\n",
    "w2_unittest.test_ref_to_diagonal(ref_to_diagonal)"
   ],
   "id": "4db1107afa816216",
   "outputs": [],
   "execution_count": null
  }
 ],
 "metadata": {
  "kernelspec": {
   "display_name": "Python 3",
   "language": "python",
   "name": "python3"
  },
  "language_info": {
   "codemirror_mode": {
    "name": "ipython",
    "version": 2
   },
   "file_extension": ".py",
   "mimetype": "text/x-python",
   "name": "python",
   "nbconvert_exporter": "python",
   "pygments_lexer": "ipython2",
   "version": "2.7.6"
  }
 },
 "nbformat": 4,
 "nbformat_minor": 5
}
