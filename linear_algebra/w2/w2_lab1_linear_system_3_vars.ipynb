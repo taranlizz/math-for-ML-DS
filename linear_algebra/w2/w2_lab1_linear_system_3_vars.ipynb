{
 "cells": [
  {
   "cell_type": "code",
   "id": "initial_id",
   "metadata": {
    "collapsed": true,
    "ExecuteTime": {
     "end_time": "2025-04-25T18:40:23.280801Z",
     "start_time": "2025-04-25T18:40:22.650264Z"
    }
   },
   "source": "import numpy as np",
   "outputs": [],
   "execution_count": 1
  },
  {
   "metadata": {},
   "cell_type": "markdown",
   "source": [
    "# 1. - Representing and solving systems of linear equations using matrices\n",
    "## 1.1 - System of linear equations\n",
    "Here is a system of linear equations (or linear system) with three equations and three unknown variables.\n",
    "$$\n",
    "\\begin{cases}\n",
    "4x_1 - 3x_2 + x_3 = -10, \\\\\n",
    "2x_1 + x_2 + 3x_3 = 0, \\\\\n",
    "-x_1 + 2x_2 - 5x_3 = 17,\n",
    "\\end{cases}\n",
    "$$\n"
   ],
   "id": "6689efa8400cf560"
  },
  {
   "metadata": {},
   "cell_type": "markdown",
   "source": "To solve this system of linear equations means to find such values of the variables x1, x2, x3 that all of its equations are simultaneously satisfied.",
   "id": "8f864475985ffadf"
  },
  {
   "metadata": {},
   "cell_type": "markdown",
   "source": [
    "## 1.2 - Solving systems of linear equations using matrices.\n",
    "Let's prepare to solve the linear system using `NumPy`.\n",
    "__A__ will be a matrix, each row will represent one equation in the system and each column will correspond to the variable x1, x2, x3 and __b__ is a 1-D array of the free (right side) coefficients:\n"
   ],
   "id": "74e371e08ae3731"
  },
  {
   "metadata": {
    "ExecuteTime": {
     "end_time": "2025-04-25T19:08:20.316323Z",
     "start_time": "2025-04-25T19:08:20.301738Z"
    }
   },
   "cell_type": "code",
   "source": [
    "A = np.array([[4, -3, 1], [2, 1, 3], [-1, 2, -5]], dtype=float)\n",
    "b = np.array([-10, 0, 17], dtype=float)\n",
    "print(\"Matrix A: \")\n",
    "print(A)\n",
    "print(\"Matrix B: \")\n",
    "print(b)"
   ],
   "id": "dbc77b75cfd5e629",
   "outputs": [
    {
     "name": "stdout",
     "output_type": "stream",
     "text": [
      "Matrix A: \n",
      "[[ 4. -3.  1.]\n",
      " [ 2.  1.  3.]\n",
      " [-1.  2. -5.]]\n",
      "Matrix B: \n",
      "[-10.   0.  17.]\n"
     ]
    }
   ],
   "execution_count": 2
  },
  {
   "metadata": {},
   "cell_type": "markdown",
   "source": "Check the dimensions of __A__ and __b__ using `shape()` function:\n",
   "id": "4f84ba6b71c5055"
  },
  {
   "metadata": {
    "ExecuteTime": {
     "end_time": "2025-04-25T19:22:51.644485Z",
     "start_time": "2025-04-25T19:22:51.628719Z"
    }
   },
   "cell_type": "code",
   "source": [
    "print(f\"Shape of A: {np.shape(A)}\")\n",
    "print(f\"Shape of b: {np.shape(b)}\")"
   ],
   "id": "d9cffa1d904496b0",
   "outputs": [
    {
     "name": "stdout",
     "output_type": "stream",
     "text": [
      "Shape of A: (3, 3)\n",
      "Shape of b: (3,)\n"
     ]
    }
   ],
   "execution_count": 3
  },
  {
   "metadata": {},
   "cell_type": "markdown",
   "source": "Now use `np.linalg.solve(A, b)` function to find the solution of the system. The result will be saved in the 1-D array x. The elements will correspond to the values of x1, x2, x3.",
   "id": "a10bc5714eb97592"
  },
  {
   "metadata": {
    "ExecuteTime": {
     "end_time": "2025-04-25T19:24:54.510108Z",
     "start_time": "2025-04-25T19:24:54.377202Z"
    }
   },
   "cell_type": "code",
   "source": [
    "x = np.linalg.solve(A, b)\n",
    "print(f\"Solution: {x}\")"
   ],
   "id": "1b8f23e12922f2c3",
   "outputs": [
    {
     "name": "stdout",
     "output_type": "stream",
     "text": [
      "Solution: [ 1.  4. -2.]\n"
     ]
    }
   ],
   "execution_count": 4
  },
  {
   "metadata": {},
   "cell_type": "markdown",
   "source": [
    "Try to substitute those values of x1, x2, and x3 into the original system of equations to check its consistency.\n",
    "\n",
    "## 1.3 - Evaluating the determinant of a matrix\n",
    "Matrix __A__ corresponding to the linear system is a __square matrix__ - it has the same number of rows and columns. In the case of a square matrix it is possible to calculate it's determinant - a real number that characterizes some properties of the matrix. A linear system containing three equations with three unknown variables will have one solution if and only if the matrix A has a non-zero determinant.\n",
    "\n",
    "Let's calculate the determinant using `np.linalg.det(A)` function:\n"
   ],
   "id": "328dc20a64399031"
  },
  {
   "metadata": {
    "ExecuteTime": {
     "end_time": "2025-04-25T19:29:13.217087Z",
     "start_time": "2025-04-25T19:29:13.200475Z"
    }
   },
   "cell_type": "code",
   "source": [
    "d = np.linalg.det(A)\n",
    "print(f\"Determinant of matrix A: {d:.2f}\")\n"
   ],
   "id": "e588ecce98e273d0",
   "outputs": [
    {
     "name": "stdout",
     "output_type": "stream",
     "text": [
      "Determinant of matrix A: -60.00\n"
     ]
    }
   ],
   "execution_count": 5
  },
  {
   "metadata": {},
   "cell_type": "markdown",
   "source": [
    "The value is non-zero, as expected.\n",
    "\n",
    "# 2. - Solving system of linear equations using row reduction.\n",
    "## 2.1 - Preparation for row reduction.\n",
    "You can see how easy it is to use contemporary packages to solve linear equations. However, for a deeper understanding of mathematical concepts, it is important to practice some solution techniques manually. The programming approach can still help here to reduce the number of arithmetical calculations, and focus on the method itself.\n",
    "\n",
    "Here you can practice the row reduction method for the linear system with three variables.\n",
    "To apply it, first, unify matrix __A__ and __b__ into one matrix using `np.hstack()` function. Note that the shape of the originally defined array __b__ was (3,) to stack it with the (3, 3) matrix you need to transform it so that it has the same number of dimensions. You cna use `.reshape((3, 1)) function:\n"
   ],
   "id": "a06bb0a106045208"
  },
  {
   "metadata": {
    "ExecuteTime": {
     "end_time": "2025-04-25T19:52:18.314334Z",
     "start_time": "2025-04-25T19:52:18.301685Z"
    }
   },
   "cell_type": "code",
   "source": [
    "A_system = np.hstack((A, b.reshape(3, 1)))\n",
    "print(A_system)"
   ],
   "id": "70bee9fcc5549512",
   "outputs": [
    {
     "name": "stdout",
     "output_type": "stream",
     "text": [
      "[[  4.  -3.   1. -10.]\n",
      " [  2.   1.   3.   0.]\n",
      " [ -1.   2.  -5.  17.]]\n"
     ]
    }
   ],
   "execution_count": 6
  }
 ],
 "metadata": {
  "kernelspec": {
   "display_name": "Python 3",
   "language": "python",
   "name": "python3"
  },
  "language_info": {
   "codemirror_mode": {
    "name": "ipython",
    "version": 2
   },
   "file_extension": ".py",
   "mimetype": "text/x-python",
   "name": "python",
   "nbconvert_exporter": "python",
   "pygments_lexer": "ipython2",
   "version": "2.7.6"
  }
 },
 "nbformat": 4,
 "nbformat_minor": 5
}
