{
 "cells": [
  {
   "cell_type": "code",
   "id": "initial_id",
   "metadata": {
    "collapsed": true,
    "ExecuteTime": {
     "end_time": "2025-04-26T13:31:01.949947Z",
     "start_time": "2025-04-26T13:31:01.946202Z"
    }
   },
   "source": "import numpy as np",
   "outputs": [],
   "execution_count": 83
  },
  {
   "metadata": {},
   "cell_type": "markdown",
   "source": [
    "# 1. - Representing and solving systems of linear equations using matrices\n",
    "## 1.1 - System of linear equations\n",
    "Here is a system of linear equations (or linear system) with three equations and three unknown variables.\n",
    "$$\n",
    "\\begin{cases}\n",
    "4x_1 - 3x_2 + x_3 = -10, \\\\\n",
    "2x_1 + x_2 + 3x_3 = 0, \\\\\n",
    "-x_1 + 2x_2 - 5x_3 = 17,\n",
    "\\end{cases}\n",
    "$$\n"
   ],
   "id": "6689efa8400cf560"
  },
  {
   "metadata": {},
   "cell_type": "markdown",
   "source": "To solve this system of linear equations means to find such values of the variables x1, x2, x3 that all of its equations are simultaneously satisfied.",
   "id": "8f864475985ffadf"
  },
  {
   "metadata": {},
   "cell_type": "markdown",
   "source": [
    "## 1.2 - Solving systems of linear equations using matrices.\n",
    "Let's prepare to solve the linear system using `NumPy`.\n",
    "__A__ will be a matrix, each row will represent one equation in the system and each column will correspond to the variable x1, x2, x3 and __b__ is a 1-D array of the free (right side) coefficients:\n"
   ],
   "id": "74e371e08ae3731"
  },
  {
   "metadata": {
    "ExecuteTime": {
     "end_time": "2025-04-26T13:31:01.964030Z",
     "start_time": "2025-04-26T13:31:01.954473Z"
    }
   },
   "cell_type": "code",
   "source": [
    "A = np.array([[4, -3, 1], [2, 1, 3], [-1, 2, -5]], dtype=float)\n",
    "b = np.array([-10, 0, 17], dtype=float)\n",
    "print(\"Matrix A: \")\n",
    "print(A)\n",
    "print(\"Matrix B: \")\n",
    "print(b)"
   ],
   "id": "dbc77b75cfd5e629",
   "outputs": [
    {
     "name": "stdout",
     "output_type": "stream",
     "text": [
      "Matrix A: \n",
      "[[ 4. -3.  1.]\n",
      " [ 2.  1.  3.]\n",
      " [-1.  2. -5.]]\n",
      "Matrix B: \n",
      "[-10.   0.  17.]\n"
     ]
    }
   ],
   "execution_count": 84
  },
  {
   "metadata": {},
   "cell_type": "markdown",
   "source": "Check the dimensions of __A__ and __b__ using `shape()` function:\n",
   "id": "4f84ba6b71c5055"
  },
  {
   "metadata": {
    "ExecuteTime": {
     "end_time": "2025-04-26T13:31:01.976523Z",
     "start_time": "2025-04-26T13:31:01.971067Z"
    }
   },
   "cell_type": "code",
   "source": [
    "print(f\"Shape of A: {np.shape(A)}\")\n",
    "print(f\"Shape of b: {np.shape(b)}\")"
   ],
   "id": "d9cffa1d904496b0",
   "outputs": [
    {
     "name": "stdout",
     "output_type": "stream",
     "text": [
      "Shape of A: (3, 3)\n",
      "Shape of b: (3,)\n"
     ]
    }
   ],
   "execution_count": 85
  },
  {
   "metadata": {},
   "cell_type": "markdown",
   "source": "Now use `np.linalg.solve(A, b)` function to find the solution of the system. The result will be saved in the 1-D array x. The elements will correspond to the values of x1, x2, x3.",
   "id": "a10bc5714eb97592"
  },
  {
   "metadata": {
    "ExecuteTime": {
     "end_time": "2025-04-26T13:31:02.003540Z",
     "start_time": "2025-04-26T13:31:01.999068Z"
    }
   },
   "cell_type": "code",
   "source": [
    "x = np.linalg.solve(A, b)\n",
    "print(f\"Solution: {x}\")"
   ],
   "id": "1b8f23e12922f2c3",
   "outputs": [
    {
     "name": "stdout",
     "output_type": "stream",
     "text": [
      "Solution: [ 1.  4. -2.]\n"
     ]
    }
   ],
   "execution_count": 86
  },
  {
   "metadata": {},
   "cell_type": "markdown",
   "source": [
    "Try to substitute those values of x1, x2, and x3 into the original system of equations to check its consistency.\n",
    "\n",
    "## 1.3 - Evaluating the determinant of a matrix\n",
    "Matrix __A__ corresponding to the linear system is a __square matrix__ - it has the same number of rows and columns. In the case of a square matrix it is possible to calculate it's determinant - a real number that characterizes some properties of the matrix. A linear system containing three equations with three unknown variables will have one solution if and only if the matrix A has a non-zero determinant.\n",
    "\n",
    "Let's calculate the determinant using `np.linalg.det(A)` function:\n"
   ],
   "id": "328dc20a64399031"
  },
  {
   "metadata": {
    "ExecuteTime": {
     "end_time": "2025-04-26T13:31:02.022500Z",
     "start_time": "2025-04-26T13:31:02.018437Z"
    }
   },
   "cell_type": "code",
   "source": [
    "d = np.linalg.det(A)\n",
    "print(f\"Determinant of matrix A: {d:.2f}\")\n"
   ],
   "id": "e588ecce98e273d0",
   "outputs": [
    {
     "name": "stdout",
     "output_type": "stream",
     "text": [
      "Determinant of matrix A: -60.00\n"
     ]
    }
   ],
   "execution_count": 87
  },
  {
   "metadata": {},
   "cell_type": "markdown",
   "source": [
    "The value is non-zero, as expected.\n",
    "\n",
    "# 2. - Solving system of linear equations using row reduction.\n",
    "## 2.1 - Preparation for row reduction.\n",
    "You can see how easy it is to use contemporary packages to solve linear equations. However, for a deeper understanding of mathematical concepts, it is important to practice some solution techniques manually. The programming approach can still help here to reduce the number of arithmetical calculations, and focus on the method itself.\n",
    "\n",
    "Here you can practice the row reduction method for the linear system with three variables.\n",
    "To apply it, first, unify matrix __A__ and __b__ into one matrix using `np.hstack()` function. Note that the shape of the originally defined array __b__ was (3,) to stack it with the (3, 3) matrix you need to transform it so that it has the same number of dimensions. You cna use `.reshape((3, 1)) function:\n"
   ],
   "id": "a06bb0a106045208"
  },
  {
   "metadata": {
    "ExecuteTime": {
     "end_time": "2025-04-26T13:31:02.044399Z",
     "start_time": "2025-04-26T13:31:02.039922Z"
    }
   },
   "cell_type": "code",
   "source": [
    "A_system = np.hstack((A, b.reshape(3, 1)))\n",
    "print(A_system)"
   ],
   "id": "70bee9fcc5549512",
   "outputs": [
    {
     "name": "stdout",
     "output_type": "stream",
     "text": [
      "[[  4.  -3.   1. -10.]\n",
      " [  2.   1.   3.   0.]\n",
      " [ -1.   2.  -5.  17.]]\n"
     ]
    }
   ],
   "execution_count": 88
  },
  {
   "metadata": {},
   "cell_type": "markdown",
   "source": [
    "## 2.2 - Functions for elementary operations\n",
    "Let's review __elementary operations__, which do not change the solution set of a linear system:\n",
    "* Multiply any row by a non-zero number\n",
    "* Add two rows and exchange on of the original rows with the result of the addition\n",
    "* Swap rows\n",
    "In the case of larger systems you will need to apply elementary operations multiple times. Thus, it is convenient to define the corresponding Python functions."
   ],
   "id": "e07028a34e293ee8"
  },
  {
   "metadata": {
    "ExecuteTime": {
     "end_time": "2025-04-26T13:31:02.068632Z",
     "start_time": "2025-04-26T13:31:02.062609Z"
    }
   },
   "cell_type": "code",
   "source": [
    "# exchange row_num of the matrix M with it's multiple by row_num_multiple\n",
    "def multiply_row(m, row_num, row_num_multiple):\n",
    "\n",
    "    if row_num > len(m) - 1:\n",
    "        raise ValueError(\"row_num value must not exceed the number of rows in matrix\")\n",
    "    if row_num_multiple == 0:\n",
    "        raise ValueError(\"Multiple must be non-zero value\")\n",
    "\n",
    "    m_new = m.copy()\n",
    "    m_new[row_num] = m_new[row_num] * row_num_multiple\n",
    "    return m_new\n",
    "\n",
    "print(\"Original matrix: \")\n",
    "print(A_system)\n",
    "print(\"\\n Matrix after its third row is multiplied by 2: \")\n",
    "print(multiply_row(A_system, 2, 2))"
   ],
   "id": "1903eddc076586fe",
   "outputs": [
    {
     "name": "stdout",
     "output_type": "stream",
     "text": [
      "Original matrix: \n",
      "[[  4.  -3.   1. -10.]\n",
      " [  2.   1.   3.   0.]\n",
      " [ -1.   2.  -5.  17.]]\n",
      "\n",
      " Matrix after its third row is multiplied by 2: \n",
      "[[  4.  -3.   1. -10.]\n",
      " [  2.   1.   3.   0.]\n",
      " [ -2.   4. -10.  34.]]\n"
     ]
    }
   ],
   "execution_count": 89
  },
  {
   "metadata": {
    "ExecuteTime": {
     "end_time": "2025-04-26T13:31:02.099842Z",
     "start_time": "2025-04-26T13:31:02.092293Z"
    }
   },
   "cell_type": "code",
   "source": [
    "#multiply row_num_1 by row_multiple_1_multiple and add it to the row_num_2\n",
    "def add_rows(m, row_num1, row_num2, row_num_1_multiple = 1):\n",
    "\n",
    "    if row_num1 > len(m) - 1 or row_num2 > len(m) - 1:\n",
    "         raise ValueError(\"row_num value must not exceed the number of rows in matrix\")\n",
    "    if row_num_1_multiple == 0:\n",
    "        raise ValueError(\"Multiple must be non-zero value\")\n",
    "\n",
    "    m_new = m.copy()\n",
    "    m_new[row_num2] = row_num_1_multiple * m_new[row_num1] + m_new[row_num2]\n",
    "    return m_new\n",
    "\n",
    "print(\"Original matrix:\")\n",
    "print(A_system)\n",
    "print(\"\\nMatrix after exchange of the third row with the sum of itself and second row multiplied by 1/2:\")\n",
    "print(add_rows(A_system,1,2))\n"
   ],
   "id": "a52292d54113f813",
   "outputs": [
    {
     "name": "stdout",
     "output_type": "stream",
     "text": [
      "Original matrix:\n",
      "[[  4.  -3.   1. -10.]\n",
      " [  2.   1.   3.   0.]\n",
      " [ -1.   2.  -5.  17.]]\n",
      "\n",
      "Matrix after exchange of the third row with the sum of itself and second row multiplied by 1/2:\n",
      "[[  4.  -3.   1. -10.]\n",
      " [  2.   1.   3.   0.]\n",
      " [  1.   3.  -2.  17.]]\n"
     ]
    }
   ],
   "execution_count": 90
  },
  {
   "metadata": {
    "ExecuteTime": {
     "end_time": "2025-04-26T13:31:02.116025Z",
     "start_time": "2025-04-26T13:31:02.109893Z"
    }
   },
   "cell_type": "code",
   "source": [
    "#exchange row_num_1 and row_num_2 of the matrix m:\n",
    "def swap_rows(m, row_num1, row_num2):\n",
    "     if row_num1 > len(m) - 1 or row_num2 > len(m) - 1:\n",
    "         raise ValueError(\"row_num value must not exceed the number of rows in matrix\")\n",
    "\n",
    "     m_new = m.copy()\n",
    "     m_new[[row_num1, row_num2]] = m_new[[row_num2, row_num1]]\n",
    "     return m_new\n",
    "\n",
    "print(\"Original matrix:\")\n",
    "print(A_system)\n",
    "print(\"\\nMatrix after exchange its first and third rows:\")\n",
    "print(swap_rows(A_system,0,2))\n",
    "\n"
   ],
   "id": "c82488e783e18c6",
   "outputs": [
    {
     "name": "stdout",
     "output_type": "stream",
     "text": [
      "Original matrix:\n",
      "[[  4.  -3.   1. -10.]\n",
      " [  2.   1.   3.   0.]\n",
      " [ -1.   2.  -5.  17.]]\n",
      "\n",
      "Matrix after exchange its first and third rows:\n",
      "[[ -1.   2.  -5.  17.]\n",
      " [  2.   1.   3.   0.]\n",
      " [  4.  -3.   1. -10.]]\n"
     ]
    }
   ],
   "execution_count": 91
  },
  {
   "metadata": {},
   "cell_type": "markdown",
   "source": [
    "## 2.3 - Row reduction and solution of the linear system\n",
    "Now you can use the defined operations to bring the matrix into row reduced form. To do this manually, it is convenient to have 1 or -1 value in the first element of the first row. Performing calculations in Python, won't provide much benefit, but it is better for illustration purposes.\n"
   ],
   "id": "a42c16ad08d5d84f"
  },
  {
   "metadata": {
    "ExecuteTime": {
     "end_time": "2025-04-26T13:31:02.136132Z",
     "start_time": "2025-04-26T13:31:02.131666Z"
    }
   },
   "cell_type": "code",
   "source": [
    "#swapping the first and third rows: (ref is row echelon form)\n",
    "A_ref = swap_rows(A_system, 0, 2)\n",
    "print(A_ref)"
   ],
   "id": "e2e57ac66dbe5152",
   "outputs": [
    {
     "name": "stdout",
     "output_type": "stream",
     "text": [
      "[[ -1.   2.  -5.  17.]\n",
      " [  2.   1.   3.   0.]\n",
      " [  4.  -3.   1. -10.]]\n"
     ]
    }
   ],
   "execution_count": 92
  },
  {
   "metadata": {
    "ExecuteTime": {
     "end_time": "2025-04-26T13:31:02.160345Z",
     "start_time": "2025-04-26T13:31:02.155253Z"
    }
   },
   "cell_type": "code",
   "source": [
    "#multiplying the first row by 2 and adding it to the second row\n",
    "A_ref = add_rows(A_ref, 0, 1, 2)\n",
    "print(A_ref)"
   ],
   "id": "1f6805b33e4aac6b",
   "outputs": [
    {
     "name": "stdout",
     "output_type": "stream",
     "text": [
      "[[ -1.   2.  -5.  17.]\n",
      " [  0.   5.  -7.  34.]\n",
      " [  4.  -3.   1. -10.]]\n"
     ]
    }
   ],
   "execution_count": 93
  },
  {
   "metadata": {
    "ExecuteTime": {
     "end_time": "2025-04-26T13:31:02.185284Z",
     "start_time": "2025-04-26T13:31:02.175122Z"
    }
   },
   "cell_type": "code",
   "source": [
    "#multiplying the first row by 4 and adding it to the third row\n",
    "A_ref = add_rows(A_ref, 0, 2, 4)\n",
    "print(A_ref)"
   ],
   "id": "edf3275d53cc7d0",
   "outputs": [
    {
     "name": "stdout",
     "output_type": "stream",
     "text": [
      "[[ -1.   2.  -5.  17.]\n",
      " [  0.   5.  -7.  34.]\n",
      " [  0.   5. -19.  58.]]\n"
     ]
    }
   ],
   "execution_count": 94
  },
  {
   "metadata": {
    "ExecuteTime": {
     "end_time": "2025-04-26T13:31:02.210074Z",
     "start_time": "2025-04-26T13:31:02.194881Z"
    }
   },
   "cell_type": "code",
   "source": [
    "#multiplying the second row by -1 and adding it to the third row\n",
    "A_ref = add_rows(A_ref, 1, 2, -1)\n",
    "print(A_ref)"
   ],
   "id": "2c9a10212c59f36a",
   "outputs": [
    {
     "name": "stdout",
     "output_type": "stream",
     "text": [
      "[[ -1.   2.  -5.  17.]\n",
      " [  0.   5.  -7.  34.]\n",
      " [  0.   0. -12.  24.]]\n"
     ]
    }
   ],
   "execution_count": 95
  },
  {
   "metadata": {
    "ExecuteTime": {
     "end_time": "2025-04-26T13:31:02.233617Z",
     "start_time": "2025-04-26T13:31:02.229361Z"
    }
   },
   "cell_type": "code",
   "source": [
    "#diving the third row by -12\n",
    "A_ref = multiply_row(A_ref, 2, -1/12)\n",
    "print(A_ref)"
   ],
   "id": "c331f95cf62ef44d",
   "outputs": [
    {
     "name": "stdout",
     "output_type": "stream",
     "text": [
      "[[-1.  2. -5. 17.]\n",
      " [ 0.  5. -7. 34.]\n",
      " [-0. -0.  1. -2.]]\n"
     ]
    }
   ],
   "execution_count": 96
  },
  {
   "metadata": {},
   "cell_type": "markdown",
   "source": "Now the second row of the matrix corresponds to the equation 5x2 - 7x3 = 34 and the first row to the equation -x + 2x2 - 5x3 = 17. Referring to the elements of the matrix, you can find the values of x2 and x1:",
   "id": "974f585709a76adc"
  },
  {
   "metadata": {
    "ExecuteTime": {
     "end_time": "2025-04-26T13:33:38.237398Z",
     "start_time": "2025-04-26T13:33:38.231746Z"
    }
   },
   "cell_type": "code",
   "source": [
    "x_3 = -2\n",
    "x_2 = (A_ref[1, 3] - A_ref[1, 2] * x_3) / A_ref[1, 1]\n",
    "x_1 = (A_ref[0,3] - A_ref[0,2] * x_3 - A_ref[0,1] * x_2) / A_ref[0,0]\n",
    "print(x_1, x_2, x_3)"
   ],
   "id": "b161ba9de52ad159",
   "outputs": [
    {
     "name": "stdout",
     "output_type": "stream",
     "text": [
      "1.0 4.0 -2\n"
     ]
    }
   ],
   "execution_count": 101
  },
  {
   "metadata": {},
   "cell_type": "markdown",
   "source": [
    "# 3. - System of linear equations with no solutions\n",
    "Given another system of linear equations:\n",
    "$$\n",
    "\\begin{cases}\n",
    "x_1 + x_2 + x_3 = 2 \\\\\n",
    "x_2 - 3x_3 = 1 \\\\\n",
    "2x_1 + x_2 + 5x_3 = 0\n",
    "\\end{cases}\n",
    "$$\n",
    "Let's find the determinant of the corresponding matrix:\n"
   ],
   "id": "c9464c468b7ded11"
  },
  {
   "metadata": {
    "ExecuteTime": {
     "end_time": "2025-04-26T13:45:59.872282Z",
     "start_time": "2025-04-26T13:45:59.849888Z"
    }
   },
   "cell_type": "code",
   "source": [
    "A_2 = np.array([[1,1, 1], [0, 1, -3], [2, 1, 5]], dtype=float)\n",
    "b_2 = np.array([2, 1, 0], dtype=float)\n",
    "d_2 = np.linalg.det(A_2)\n",
    "print(f\"Determinant of matrix A_2: {d_2:.2f}\")"
   ],
   "id": "e8f1f2c1245b600d",
   "outputs": [
    {
     "name": "stdout",
     "output_type": "stream",
     "text": [
      "Determinant of matrix A_2: 0.00\n"
     ]
    }
   ],
   "execution_count": 102
  },
  {
   "metadata": {},
   "cell_type": "markdown",
   "source": [
    "It is equal to zero, thus the system cannot have one unique solution.\n",
    "It will have either infinitely many solutions or none.\n",
    "The consistency of it will depend on the free coefficients (right side coefficients)."
   ],
   "id": "66dca7cda5a51491"
  },
  {
   "metadata": {
    "ExecuteTime": {
     "end_time": "2025-04-26T13:49:16.918456Z",
     "start_time": "2025-04-26T13:49:16.909062Z"
    }
   },
   "cell_type": "code",
   "source": "#x_2 = np.linalg.solve(A_2, b_2) - LinAlgError: Singular matrix",
   "id": "14aa5a2102c9ac3d",
   "outputs": [],
   "execution_count": 104
  },
  {
   "metadata": {},
   "cell_type": "markdown",
   "source": "Let's perform elementary transformations to see that this particular system has no solutions:\n",
   "id": "cb29ba0e350742ef"
  },
  {
   "metadata": {
    "ExecuteTime": {
     "end_time": "2025-04-26T13:55:32.472462Z",
     "start_time": "2025-04-26T13:55:32.459313Z"
    }
   },
   "cell_type": "code",
   "source": [
    "A_2_system = np.hstack((A_2, b_2.reshape((3, 1))))\n",
    "print(A_2_system)"
   ],
   "id": "a0eef0f583fb75bd",
   "outputs": [
    {
     "name": "stdout",
     "output_type": "stream",
     "text": [
      "[[ 1.  1.  1.  2.]\n",
      " [ 0.  1. -3.  1.]\n",
      " [ 2.  1.  5.  0.]]\n"
     ]
    }
   ],
   "execution_count": 106
  },
  {
   "metadata": {
    "ExecuteTime": {
     "end_time": "2025-04-26T13:57:19.679775Z",
     "start_time": "2025-04-26T13:57:19.668084Z"
    }
   },
   "cell_type": "code",
   "source": [
    "#multiplying row 0 by -2 and add it to the row 2\n",
    "A_2_ref = add_rows(A_2_system, 0, 2, -2)\n",
    "print(A_2_ref)"
   ],
   "id": "571f09e4bd2c7e92",
   "outputs": [
    {
     "name": "stdout",
     "output_type": "stream",
     "text": [
      "[[ 1.  1.  1.  2.]\n",
      " [ 0.  1. -3.  1.]\n",
      " [ 0. -1.  3. -4.]]\n"
     ]
    }
   ],
   "execution_count": 107
  },
  {
   "metadata": {
    "ExecuteTime": {
     "end_time": "2025-04-26T13:58:27.289903Z",
     "start_time": "2025-04-26T13:58:27.279692Z"
    }
   },
   "cell_type": "code",
   "source": [
    "#adding row 1 of the new matrix to the row 2\n",
    "A_2_ref = add_rows(A_2_ref, 1, 2)\n",
    "print(A_2_ref)"
   ],
   "id": "76568afc0dcb125f",
   "outputs": [
    {
     "name": "stdout",
     "output_type": "stream",
     "text": [
      "[[ 1.  1.  1.  2.]\n",
      " [ 0.  1. -3.  1.]\n",
      " [ 0.  0.  0. -3.]]\n"
     ]
    }
   ],
   "execution_count": 108
  },
  {
   "metadata": {},
   "cell_type": "markdown",
   "source": [
    "The last row will correspond to the equation 0 = -3 which has no solution.\n",
    "Thus the whole linear system has no solution."
   ],
   "id": "b1fe68fc6bd2bcc0"
  },
  {
   "metadata": {},
   "cell_type": "markdown",
   "source": "# 4. - System of linear equations with infinite number of solutions\n",
   "id": "ba6075b05f8639d4"
  },
  {
   "metadata": {},
   "cell_type": "markdown",
   "source": [
    "You can bring the system to consistency by changing only the free coefficients:\n",
    "$$\n",
    "\\begin{cases}\n",
    "x_1 + x_2 + x_3 = 2 \\\\\n",
    "x_2 - 3x_3 = 1 \\\\\n",
    "2x_1 + x_2 + 5x_3 = 3\n",
    "\\end{cases}\n",
    "$$\n",
    "Define the new array of free coefficients:\n"
   ],
   "id": "ab76ed21248eb059"
  },
  {
   "metadata": {
    "ExecuteTime": {
     "end_time": "2025-04-26T14:02:33.254594Z",
     "start_time": "2025-04-26T14:02:33.248923Z"
    }
   },
   "cell_type": "code",
   "source": "b_3 = np.array([2, 1, 3])",
   "id": "b7d125bff626bf88",
   "outputs": [],
   "execution_count": 110
  },
  {
   "metadata": {},
   "cell_type": "markdown",
   "source": "Prepare the new matrix, corresponding to the system:\n",
   "id": "88e6aba0dbcfd4a9"
  },
  {
   "metadata": {
    "ExecuteTime": {
     "end_time": "2025-04-26T14:02:36.009715Z",
     "start_time": "2025-04-26T14:02:35.997908Z"
    }
   },
   "cell_type": "code",
   "source": [
    "A_3_system = np.hstack((A_2, b_3.reshape((3,1))))\n",
    "print(A_3_system)"
   ],
   "id": "dc5e1e28154f81da",
   "outputs": [
    {
     "name": "stdout",
     "output_type": "stream",
     "text": [
      "[[ 1.  1.  1.  2.]\n",
      " [ 0.  1. -3.  1.]\n",
      " [ 2.  1.  5.  3.]]\n"
     ]
    }
   ],
   "execution_count": 111
  },
  {
   "metadata": {
    "ExecuteTime": {
     "end_time": "2025-04-26T14:06:06.145940Z",
     "start_time": "2025-04-26T14:06:06.136478Z"
    }
   },
   "cell_type": "code",
   "source": [
    "#multiply row 0 of the new matrix A_3_system by -2 and add it to the row 2\n",
    "A_3_ref = add_rows(A_3_system, 0, 2, -2)\n",
    "print(A_3_ref)"
   ],
   "id": "bedadb4fda197ac7",
   "outputs": [
    {
     "name": "stdout",
     "output_type": "stream",
     "text": [
      "[[ 1.  1.  1.  2.]\n",
      " [ 0.  1. -3.  1.]\n",
      " [ 0. -1.  3. -1.]]\n"
     ]
    }
   ],
   "execution_count": 133
  },
  {
   "metadata": {
    "ExecuteTime": {
     "end_time": "2025-04-26T14:06:07.599644Z",
     "start_time": "2025-04-26T14:06:07.593745Z"
    }
   },
   "cell_type": "code",
   "source": [
    "#add the row 1 to the row 2\n",
    "A_3_ref = add_rows(A_3_ref, 1, 2)\n",
    "print(A_3_ref)"
   ],
   "id": "28fbeff6b7a6b8d9",
   "outputs": [
    {
     "name": "stdout",
     "output_type": "stream",
     "text": [
      "[[ 1.  1.  1.  2.]\n",
      " [ 0.  1. -3.  1.]\n",
      " [ 0.  0.  0.  0.]]\n"
     ]
    }
   ],
   "execution_count": 134
  },
  {
   "metadata": {},
   "cell_type": "markdown",
   "source": [
    "Thus, from the corresponding linear system:\n",
    "$$\n",
    "\\begin{cases}\n",
    "x_1 + x_2 + x_3 = 2 \\\\\n",
    "x_2 - 3x_3 = 1 \\\\\n",
    "0 = 0\n",
    "\\end{cases}\n",
    "$$\n",
    "you can find that x2 = 1 + 3x3, substitute it into the first equation and find x1. Thus, the solutions of the linear system are:\n",
    "$$\n",
    "\\begin{cases}\n",
    "x_1 = 1 - 4x_3 \\\\\n",
    "x_2 = 1 + 3x_3\n",
    "\\end{cases}\n",
    "$$\n",
    "where x3 is any real number.\n"
   ],
   "id": "b8ef984b352d8c86"
  }
 ],
 "metadata": {
  "kernelspec": {
   "display_name": "Python 3",
   "language": "python",
   "name": "python3"
  },
  "language_info": {
   "codemirror_mode": {
    "name": "ipython",
    "version": 2
   },
   "file_extension": ".py",
   "mimetype": "text/x-python",
   "name": "python",
   "nbconvert_exporter": "python",
   "pygments_lexer": "ipython2",
   "version": "2.7.6"
  }
 },
 "nbformat": 4,
 "nbformat_minor": 5
}
