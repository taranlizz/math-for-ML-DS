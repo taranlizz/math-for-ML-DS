{
 "cells": [
  {
   "metadata": {},
   "cell_type": "markdown",
   "source": "## TEST",
   "id": "2e348d9932704ba6"
  },
  {
   "metadata": {
    "ExecuteTime": {
     "end_time": "2025-04-21T12:46:01.179875Z",
     "start_time": "2025-04-21T12:46:01.148963Z"
    }
   },
   "cell_type": "code",
   "source": "print(\"Hello\")",
   "id": "45adebc87b732678",
   "outputs": [
    {
     "name": "stdout",
     "output_type": "stream",
     "text": [
      "Hello\n"
     ]
    }
   ],
   "execution_count": 1
  }
 ],
 "metadata": {
  "kernelspec": {
   "name": "python3",
   "language": "python",
   "display_name": "Python 3 (ipykernel)"
  }
 },
 "nbformat": 5,
 "nbformat_minor": 9
}
